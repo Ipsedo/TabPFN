{
 "cells": [
  {
   "cell_type": "code",
   "execution_count": 1,
   "id": "initial_id",
   "metadata": {
    "collapsed": true,
    "ExecuteTime": {
     "end_time": "2024-02-25T20:27:00.505665409Z",
     "start_time": "2024-02-25T20:26:57.821733534Z"
    }
   },
   "outputs": [],
   "source": [
    "import openml\n",
    "from tqdm import tqdm\n",
    "import math\n",
    "import torch as th\n",
    "from sklearn.model_selection import train_test_split\n",
    "from sklearn.metrics import log_loss, roc_auc_score , accuracy_score\n",
    "\n",
    "from tabpfn import TabPFNClassifier\n",
    "\n",
    "from tab_pfn.networks import TabPFN, SklearnClassifier"
   ]
  },
  {
   "cell_type": "code",
   "outputs": [
    {
     "name": "stderr",
     "output_type": "stream",
     "text": [
      "  0%|          | 0/72 [00:00<?, ?it/s]/home/samuel/PycharmProjects/TabPFN/venv/lib/python3.11/site-packages/IPython/core/interactiveshell.py:3553: FutureWarning: Starting from Version 0.15.0 `download_splits` will default to ``False`` instead of ``True`` and be independent from `download_data`. To disable this message until version 0.15 explicitly set `download_splits` to a bool.\n",
      "  exec(code_obj, self.user_global_ns, self.user_ns)\n",
      "/home/samuel/PycharmProjects/TabPFN/venv/lib/python3.11/site-packages/openml/tasks/functions.py:442: FutureWarning: Starting from Version 0.15 `download_data`, `download_qualities`, and `download_features_meta_data` will all be ``False`` instead of ``True`` by default to enable lazy loading. To disable this message until version 0.15 explicitly set `download_data`, `download_qualities`, and `download_features_meta_data` to a bool while calling `get_dataset`.\n",
      "  dataset = get_dataset(task.dataset_id, *dataset_args, **get_dataset_kwargs)\n",
      "/home/samuel/PycharmProjects/TabPFN/venv/lib/python3.11/site-packages/openml/tasks/task.py:150: FutureWarning: Starting from Version 0.15 `download_data`, `download_qualities`, and `download_features_meta_data` will all be ``False`` instead of ``True`` by default to enable lazy loading. To disable this message until version 0.15 explicitly set `download_data`, `download_qualities`, and `download_features_meta_data` to a bool while calling `get_dataset`.\n",
      "  return datasets.get_dataset(self.dataset_id)\n",
      "100%|██████████| 72/72 [00:00<00:00, 189.98it/s]\n"
     ]
    }
   ],
   "source": [
    "benchmark = openml.study.get_suite('OpenML-CC18')\n",
    "tasks = openml.tasks.list_tasks(task_id=benchmark.tasks, output_format=\"dataframe\")\n",
    "\n",
    "retained_datasets = []\n",
    "\n",
    "for _, row in tqdm(list(tasks.iterrows())):\n",
    "    try:\n",
    "        datasets = openml.tasks.get_task(row[\"tid\"]).get_dataset()\n",
    "    except Exception as e:\n",
    "        print(e)\n",
    "        print(row[\"tid\"])\n",
    "        continue\n",
    "    \n",
    "    if row[\"NumberOfInstances\"] > 2000:\n",
    "        continue\n",
    "    if row[\"NumberOfNumericFeatures\"] > 100:\n",
    "        continue\n",
    "    if datasets.qualities[\"NumberOfClasses\"] > 10:\n",
    "        continue\n",
    "    \n",
    "    retained_datasets.append(openml.tasks.get_task(row[\"tid\"]).get_dataset())"
   ],
   "metadata": {
    "collapsed": false,
    "ExecuteTime": {
     "end_time": "2024-02-25T20:27:02.791887647Z",
     "start_time": "2024-02-25T20:27:01.910348159Z"
    }
   },
   "id": "feae5940a59c6899",
   "execution_count": 2
  },
  {
   "cell_type": "code",
   "outputs": [
    {
     "data": {
      "text/plain": "30"
     },
     "execution_count": 3,
     "metadata": {},
     "output_type": "execute_result"
    }
   ],
   "source": [
    "len(retained_datasets)"
   ],
   "metadata": {
    "collapsed": false,
    "ExecuteTime": {
     "end_time": "2024-02-25T20:27:03.198648957Z",
     "start_time": "2024-02-25T20:27:03.196457626Z"
    }
   },
   "id": "a62a33067d4948c1",
   "execution_count": 3
  },
  {
   "cell_type": "code",
   "outputs": [
    {
     "name": "stderr",
     "output_type": "stream",
     "text": [
      "  0%|          | 0/30 [00:00<?, ?it/s]/home/samuel/PycharmProjects/TabPFN/venv/lib/python3.11/site-packages/torch/utils/checkpoint.py:460: UserWarning: torch.utils.checkpoint: please pass in use_reentrant=True or use_reentrant=False explicitly. The default value of use_reentrant will be updated to be False in the future. To maintain current behavior, pass use_reentrant=True. It is recommended that you use use_reentrant=False. Refer to docs for more details on the differences between the two variants.\n",
      "  warnings.warn(\n",
      "/home/samuel/PycharmProjects/TabPFN/venv/lib/python3.11/site-packages/torch/utils/checkpoint.py:460: UserWarning: torch.utils.checkpoint: please pass in use_reentrant=True or use_reentrant=False explicitly. The default value of use_reentrant will be updated to be False in the future. To maintain current behavior, pass use_reentrant=True. It is recommended that you use use_reentrant=False. Refer to docs for more details on the differences between the two variants.\n",
      "  warnings.warn(\n",
      "  3%|▎         | 1/30 [00:01<00:52,  1.80s/it]/home/samuel/PycharmProjects/TabPFN/venv/lib/python3.11/site-packages/torch/utils/checkpoint.py:460: UserWarning: torch.utils.checkpoint: please pass in use_reentrant=True or use_reentrant=False explicitly. The default value of use_reentrant will be updated to be False in the future. To maintain current behavior, pass use_reentrant=True. It is recommended that you use use_reentrant=False. Refer to docs for more details on the differences between the two variants.\n",
      "  warnings.warn(\n",
      "/home/samuel/PycharmProjects/TabPFN/venv/lib/python3.11/site-packages/torch/utils/checkpoint.py:460: UserWarning: torch.utils.checkpoint: please pass in use_reentrant=True or use_reentrant=False explicitly. The default value of use_reentrant will be updated to be False in the future. To maintain current behavior, pass use_reentrant=True. It is recommended that you use use_reentrant=False. Refer to docs for more details on the differences between the two variants.\n",
      "  warnings.warn(\n",
      "  7%|▋         | 2/30 [00:07<01:51,  3.97s/it]/home/samuel/PycharmProjects/TabPFN/venv/lib/python3.11/site-packages/torch/utils/checkpoint.py:460: UserWarning: torch.utils.checkpoint: please pass in use_reentrant=True or use_reentrant=False explicitly. The default value of use_reentrant will be updated to be False in the future. To maintain current behavior, pass use_reentrant=True. It is recommended that you use use_reentrant=False. Refer to docs for more details on the differences between the two variants.\n",
      "  warnings.warn(\n",
      "/home/samuel/PycharmProjects/TabPFN/venv/lib/python3.11/site-packages/torch/utils/checkpoint.py:460: UserWarning: torch.utils.checkpoint: please pass in use_reentrant=True or use_reentrant=False explicitly. The default value of use_reentrant will be updated to be False in the future. To maintain current behavior, pass use_reentrant=True. It is recommended that you use use_reentrant=False. Refer to docs for more details on the differences between the two variants.\n",
      "  warnings.warn(\n",
      " 10%|█         | 3/30 [00:08<01:13,  2.74s/it]/home/samuel/PycharmProjects/TabPFN/venv/lib/python3.11/site-packages/torch/utils/checkpoint.py:460: UserWarning: torch.utils.checkpoint: please pass in use_reentrant=True or use_reentrant=False explicitly. The default value of use_reentrant will be updated to be False in the future. To maintain current behavior, pass use_reentrant=True. It is recommended that you use use_reentrant=False. Refer to docs for more details on the differences between the two variants.\n",
      "  warnings.warn(\n",
      "/home/samuel/PycharmProjects/TabPFN/venv/lib/python3.11/site-packages/torch/utils/checkpoint.py:460: UserWarning: torch.utils.checkpoint: please pass in use_reentrant=True or use_reentrant=False explicitly. The default value of use_reentrant will be updated to be False in the future. To maintain current behavior, pass use_reentrant=True. It is recommended that you use use_reentrant=False. Refer to docs for more details on the differences between the two variants.\n",
      "  warnings.warn(\n",
      " 13%|█▎        | 4/30 [00:14<01:45,  4.07s/it]/home/samuel/PycharmProjects/TabPFN/venv/lib/python3.11/site-packages/torch/utils/checkpoint.py:460: UserWarning: torch.utils.checkpoint: please pass in use_reentrant=True or use_reentrant=False explicitly. The default value of use_reentrant will be updated to be False in the future. To maintain current behavior, pass use_reentrant=True. It is recommended that you use use_reentrant=False. Refer to docs for more details on the differences between the two variants.\n",
      "  warnings.warn(\n",
      "/home/samuel/PycharmProjects/TabPFN/venv/lib/python3.11/site-packages/torch/utils/checkpoint.py:460: UserWarning: torch.utils.checkpoint: please pass in use_reentrant=True or use_reentrant=False explicitly. The default value of use_reentrant will be updated to be False in the future. To maintain current behavior, pass use_reentrant=True. It is recommended that you use use_reentrant=False. Refer to docs for more details on the differences between the two variants.\n",
      "  warnings.warn(\n",
      " 17%|█▋        | 5/30 [00:20<01:54,  4.57s/it]/home/samuel/PycharmProjects/TabPFN/venv/lib/python3.11/site-packages/torch/utils/checkpoint.py:460: UserWarning: torch.utils.checkpoint: please pass in use_reentrant=True or use_reentrant=False explicitly. The default value of use_reentrant will be updated to be False in the future. To maintain current behavior, pass use_reentrant=True. It is recommended that you use use_reentrant=False. Refer to docs for more details on the differences between the two variants.\n",
      "  warnings.warn(\n",
      "/home/samuel/PycharmProjects/TabPFN/venv/lib/python3.11/site-packages/torch/utils/checkpoint.py:460: UserWarning: torch.utils.checkpoint: please pass in use_reentrant=True or use_reentrant=False explicitly. The default value of use_reentrant will be updated to be False in the future. To maintain current behavior, pass use_reentrant=True. It is recommended that you use use_reentrant=False. Refer to docs for more details on the differences between the two variants.\n",
      "  warnings.warn(\n",
      "/home/samuel/PycharmProjects/TabPFN/venv/lib/python3.11/site-packages/sklearn/metrics/_classification.py:2969: UserWarning: The y_pred values do not sum to one. Starting from 1.5 thiswill result in an error.\n",
      "  warnings.warn(\n",
      " 20%|██        | 6/30 [00:25<01:55,  4.80s/it]/home/samuel/PycharmProjects/TabPFN/venv/lib/python3.11/site-packages/torch/utils/checkpoint.py:460: UserWarning: torch.utils.checkpoint: please pass in use_reentrant=True or use_reentrant=False explicitly. The default value of use_reentrant will be updated to be False in the future. To maintain current behavior, pass use_reentrant=True. It is recommended that you use use_reentrant=False. Refer to docs for more details on the differences between the two variants.\n",
      "  warnings.warn(\n",
      "/home/samuel/PycharmProjects/TabPFN/venv/lib/python3.11/site-packages/torch/utils/checkpoint.py:460: UserWarning: torch.utils.checkpoint: please pass in use_reentrant=True or use_reentrant=False explicitly. The default value of use_reentrant will be updated to be False in the future. To maintain current behavior, pass use_reentrant=True. It is recommended that you use use_reentrant=False. Refer to docs for more details on the differences between the two variants.\n",
      "  warnings.warn(\n",
      " 33%|███▎      | 10/30 [00:26<00:37,  1.87s/it]/home/samuel/PycharmProjects/TabPFN/venv/lib/python3.11/site-packages/torch/utils/checkpoint.py:460: UserWarning: torch.utils.checkpoint: please pass in use_reentrant=True or use_reentrant=False explicitly. The default value of use_reentrant will be updated to be False in the future. To maintain current behavior, pass use_reentrant=True. It is recommended that you use use_reentrant=False. Refer to docs for more details on the differences between the two variants.\n",
      "  warnings.warn(\n",
      "/home/samuel/PycharmProjects/TabPFN/venv/lib/python3.11/site-packages/torch/utils/checkpoint.py:460: UserWarning: torch.utils.checkpoint: please pass in use_reentrant=True or use_reentrant=False explicitly. The default value of use_reentrant will be updated to be False in the future. To maintain current behavior, pass use_reentrant=True. It is recommended that you use use_reentrant=False. Refer to docs for more details on the differences between the two variants.\n",
      "  warnings.warn(\n",
      " 40%|████      | 12/30 [00:28<00:27,  1.52s/it]/home/samuel/PycharmProjects/TabPFN/venv/lib/python3.11/site-packages/torch/utils/checkpoint.py:460: UserWarning: torch.utils.checkpoint: please pass in use_reentrant=True or use_reentrant=False explicitly. The default value of use_reentrant will be updated to be False in the future. To maintain current behavior, pass use_reentrant=True. It is recommended that you use use_reentrant=False. Refer to docs for more details on the differences between the two variants.\n",
      "  warnings.warn(\n",
      "/home/samuel/PycharmProjects/TabPFN/venv/lib/python3.11/site-packages/torch/utils/checkpoint.py:460: UserWarning: torch.utils.checkpoint: please pass in use_reentrant=True or use_reentrant=False explicitly. The default value of use_reentrant will be updated to be False in the future. To maintain current behavior, pass use_reentrant=True. It is recommended that you use use_reentrant=False. Refer to docs for more details on the differences between the two variants.\n",
      "  warnings.warn(\n",
      " 47%|████▋     | 14/30 [00:30<00:20,  1.30s/it]/home/samuel/PycharmProjects/TabPFN/venv/lib/python3.11/site-packages/torch/utils/checkpoint.py:460: UserWarning: torch.utils.checkpoint: please pass in use_reentrant=True or use_reentrant=False explicitly. The default value of use_reentrant will be updated to be False in the future. To maintain current behavior, pass use_reentrant=True. It is recommended that you use use_reentrant=False. Refer to docs for more details on the differences between the two variants.\n",
      "  warnings.warn(\n",
      "/home/samuel/PycharmProjects/TabPFN/venv/lib/python3.11/site-packages/torch/utils/checkpoint.py:460: UserWarning: torch.utils.checkpoint: please pass in use_reentrant=True or use_reentrant=False explicitly. The default value of use_reentrant will be updated to be False in the future. To maintain current behavior, pass use_reentrant=True. It is recommended that you use use_reentrant=False. Refer to docs for more details on the differences between the two variants.\n",
      "  warnings.warn(\n",
      " 53%|█████▎    | 16/30 [00:33<00:19,  1.40s/it]/home/samuel/PycharmProjects/TabPFN/venv/lib/python3.11/site-packages/torch/utils/checkpoint.py:460: UserWarning: torch.utils.checkpoint: please pass in use_reentrant=True or use_reentrant=False explicitly. The default value of use_reentrant will be updated to be False in the future. To maintain current behavior, pass use_reentrant=True. It is recommended that you use use_reentrant=False. Refer to docs for more details on the differences between the two variants.\n",
      "  warnings.warn(\n",
      "/home/samuel/PycharmProjects/TabPFN/venv/lib/python3.11/site-packages/torch/utils/checkpoint.py:460: UserWarning: torch.utils.checkpoint: please pass in use_reentrant=True or use_reentrant=False explicitly. The default value of use_reentrant will be updated to be False in the future. To maintain current behavior, pass use_reentrant=True. It is recommended that you use use_reentrant=False. Refer to docs for more details on the differences between the two variants.\n",
      "  warnings.warn(\n",
      " 57%|█████▋    | 17/30 [00:36<00:23,  1.80s/it]/home/samuel/PycharmProjects/TabPFN/venv/lib/python3.11/site-packages/torch/utils/checkpoint.py:460: UserWarning: torch.utils.checkpoint: please pass in use_reentrant=True or use_reentrant=False explicitly. The default value of use_reentrant will be updated to be False in the future. To maintain current behavior, pass use_reentrant=True. It is recommended that you use use_reentrant=False. Refer to docs for more details on the differences between the two variants.\n",
      "  warnings.warn(\n",
      "/home/samuel/PycharmProjects/TabPFN/venv/lib/python3.11/site-packages/torch/utils/checkpoint.py:460: UserWarning: torch.utils.checkpoint: please pass in use_reentrant=True or use_reentrant=False explicitly. The default value of use_reentrant will be updated to be False in the future. To maintain current behavior, pass use_reentrant=True. It is recommended that you use use_reentrant=False. Refer to docs for more details on the differences between the two variants.\n",
      "  warnings.warn(\n",
      " 60%|██████    | 18/30 [00:37<00:19,  1.60s/it]/home/samuel/PycharmProjects/TabPFN/venv/lib/python3.11/site-packages/torch/utils/checkpoint.py:460: UserWarning: torch.utils.checkpoint: please pass in use_reentrant=True or use_reentrant=False explicitly. The default value of use_reentrant will be updated to be False in the future. To maintain current behavior, pass use_reentrant=True. It is recommended that you use use_reentrant=False. Refer to docs for more details on the differences between the two variants.\n",
      "  warnings.warn(\n",
      "/home/samuel/PycharmProjects/TabPFN/venv/lib/python3.11/site-packages/torch/utils/checkpoint.py:460: UserWarning: torch.utils.checkpoint: please pass in use_reentrant=True or use_reentrant=False explicitly. The default value of use_reentrant will be updated to be False in the future. To maintain current behavior, pass use_reentrant=True. It is recommended that you use use_reentrant=False. Refer to docs for more details on the differences between the two variants.\n",
      "  warnings.warn(\n",
      " 63%|██████▎   | 19/30 [00:39<00:18,  1.67s/it]/home/samuel/PycharmProjects/TabPFN/venv/lib/python3.11/site-packages/torch/utils/checkpoint.py:460: UserWarning: torch.utils.checkpoint: please pass in use_reentrant=True or use_reentrant=False explicitly. The default value of use_reentrant will be updated to be False in the future. To maintain current behavior, pass use_reentrant=True. It is recommended that you use use_reentrant=False. Refer to docs for more details on the differences between the two variants.\n",
      "  warnings.warn(\n",
      "/home/samuel/PycharmProjects/TabPFN/venv/lib/python3.11/site-packages/torch/utils/checkpoint.py:460: UserWarning: torch.utils.checkpoint: please pass in use_reentrant=True or use_reentrant=False explicitly. The default value of use_reentrant will be updated to be False in the future. To maintain current behavior, pass use_reentrant=True. It is recommended that you use use_reentrant=False. Refer to docs for more details on the differences between the two variants.\n",
      "  warnings.warn(\n",
      " 67%|██████▋   | 20/30 [00:40<00:14,  1.49s/it]/home/samuel/PycharmProjects/TabPFN/venv/lib/python3.11/site-packages/torch/utils/checkpoint.py:460: UserWarning: torch.utils.checkpoint: please pass in use_reentrant=True or use_reentrant=False explicitly. The default value of use_reentrant will be updated to be False in the future. To maintain current behavior, pass use_reentrant=True. It is recommended that you use use_reentrant=False. Refer to docs for more details on the differences between the two variants.\n",
      "  warnings.warn(\n",
      "/home/samuel/PycharmProjects/TabPFN/venv/lib/python3.11/site-packages/torch/utils/checkpoint.py:460: UserWarning: torch.utils.checkpoint: please pass in use_reentrant=True or use_reentrant=False explicitly. The default value of use_reentrant will be updated to be False in the future. To maintain current behavior, pass use_reentrant=True. It is recommended that you use use_reentrant=False. Refer to docs for more details on the differences between the two variants.\n",
      "  warnings.warn(\n",
      " 70%|███████   | 21/30 [00:42<00:14,  1.60s/it]/home/samuel/PycharmProjects/TabPFN/venv/lib/python3.11/site-packages/torch/utils/checkpoint.py:460: UserWarning: torch.utils.checkpoint: please pass in use_reentrant=True or use_reentrant=False explicitly. The default value of use_reentrant will be updated to be False in the future. To maintain current behavior, pass use_reentrant=True. It is recommended that you use use_reentrant=False. Refer to docs for more details on the differences between the two variants.\n",
      "  warnings.warn(\n",
      "/home/samuel/PycharmProjects/TabPFN/venv/lib/python3.11/site-packages/torch/utils/checkpoint.py:460: UserWarning: torch.utils.checkpoint: please pass in use_reentrant=True or use_reentrant=False explicitly. The default value of use_reentrant will be updated to be False in the future. To maintain current behavior, pass use_reentrant=True. It is recommended that you use use_reentrant=False. Refer to docs for more details on the differences between the two variants.\n",
      "  warnings.warn(\n",
      " 77%|███████▋  | 23/30 [00:45<00:10,  1.50s/it]/home/samuel/PycharmProjects/TabPFN/venv/lib/python3.11/site-packages/torch/utils/checkpoint.py:460: UserWarning: torch.utils.checkpoint: please pass in use_reentrant=True or use_reentrant=False explicitly. The default value of use_reentrant will be updated to be False in the future. To maintain current behavior, pass use_reentrant=True. It is recommended that you use use_reentrant=False. Refer to docs for more details on the differences between the two variants.\n",
      "  warnings.warn(\n",
      "/home/samuel/PycharmProjects/TabPFN/venv/lib/python3.11/site-packages/torch/utils/checkpoint.py:460: UserWarning: torch.utils.checkpoint: please pass in use_reentrant=True or use_reentrant=False explicitly. The default value of use_reentrant will be updated to be False in the future. To maintain current behavior, pass use_reentrant=True. It is recommended that you use use_reentrant=False. Refer to docs for more details on the differences between the two variants.\n",
      "  warnings.warn(\n",
      " 80%|████████  | 24/30 [00:46<00:08,  1.41s/it]/home/samuel/PycharmProjects/TabPFN/venv/lib/python3.11/site-packages/torch/utils/checkpoint.py:460: UserWarning: torch.utils.checkpoint: please pass in use_reentrant=True or use_reentrant=False explicitly. The default value of use_reentrant will be updated to be False in the future. To maintain current behavior, pass use_reentrant=True. It is recommended that you use use_reentrant=False. Refer to docs for more details on the differences between the two variants.\n",
      "  warnings.warn(\n",
      "/home/samuel/PycharmProjects/TabPFN/venv/lib/python3.11/site-packages/torch/utils/checkpoint.py:460: UserWarning: torch.utils.checkpoint: please pass in use_reentrant=True or use_reentrant=False explicitly. The default value of use_reentrant will be updated to be False in the future. To maintain current behavior, pass use_reentrant=True. It is recommended that you use use_reentrant=False. Refer to docs for more details on the differences between the two variants.\n",
      "  warnings.warn(\n",
      " 90%|█████████ | 27/30 [00:48<00:03,  1.14s/it]/home/samuel/PycharmProjects/TabPFN/venv/lib/python3.11/site-packages/torch/utils/checkpoint.py:460: UserWarning: torch.utils.checkpoint: please pass in use_reentrant=True or use_reentrant=False explicitly. The default value of use_reentrant will be updated to be False in the future. To maintain current behavior, pass use_reentrant=True. It is recommended that you use use_reentrant=False. Refer to docs for more details on the differences between the two variants.\n",
      "  warnings.warn(\n",
      "/home/samuel/PycharmProjects/TabPFN/venv/lib/python3.11/site-packages/torch/utils/checkpoint.py:460: UserWarning: torch.utils.checkpoint: please pass in use_reentrant=True or use_reentrant=False explicitly. The default value of use_reentrant will be updated to be False in the future. To maintain current behavior, pass use_reentrant=True. It is recommended that you use use_reentrant=False. Refer to docs for more details on the differences between the two variants.\n",
      "  warnings.warn(\n",
      " 93%|█████████▎| 28/30 [00:53<00:03,  1.79s/it]/home/samuel/PycharmProjects/TabPFN/venv/lib/python3.11/site-packages/torch/utils/checkpoint.py:460: UserWarning: torch.utils.checkpoint: please pass in use_reentrant=True or use_reentrant=False explicitly. The default value of use_reentrant will be updated to be False in the future. To maintain current behavior, pass use_reentrant=True. It is recommended that you use use_reentrant=False. Refer to docs for more details on the differences between the two variants.\n",
      "  warnings.warn(\n",
      "/home/samuel/PycharmProjects/TabPFN/venv/lib/python3.11/site-packages/torch/utils/checkpoint.py:460: UserWarning: torch.utils.checkpoint: please pass in use_reentrant=True or use_reentrant=False explicitly. The default value of use_reentrant will be updated to be False in the future. To maintain current behavior, pass use_reentrant=True. It is recommended that you use use_reentrant=False. Refer to docs for more details on the differences between the two variants.\n",
      "  warnings.warn(\n",
      "100%|██████████| 30/30 [00:54<00:00,  1.81s/it]\n"
     ]
    }
   ],
   "source": [
    "tab_pfn = TabPFN(100, 10, 256, 64, 512, 1024, 4, 6)\n",
    "tab_pfn.load_state_dict(th.load(\"/home/samuel/PycharmProjects/TabPFN/out/out_train_trf_scm-normal-0-1/model_54271.pt\", map_location=\"cpu\"))\n",
    "tab_pfn.eval()\n",
    "\n",
    "#tab_pfn_clf = SklearnClassifier.from_torch(tab_pfn)\n",
    "tab_pfn_clf = TabPFNClassifier(device=\"cpu\")\n",
    "\n",
    "scores = {}\n",
    "\n",
    "for dataset in tqdm(retained_datasets):\n",
    "    x, y, _, _ = dataset.get_data(target=dataset.default_target_attribute)\n",
    "\n",
    "    with th.no_grad():\n",
    "        \n",
    "        x_train, x_test, y_train, y_test = train_test_split(x, y, train_size=0.5, test_size=0.5)\n",
    "        \n",
    "        try:\n",
    "            tab_pfn_clf.fit(x_train, y_train)\n",
    "            out_proba = tab_pfn_clf.predict_proba(x_test)\n",
    "            out = tab_pfn_clf.predict(x_test)\n",
    "        except ValueError as ve:\n",
    "            continue\n",
    "        except TypeError as te:\n",
    "            continue\n",
    "        # roc_auc = roc_auc_score(y_test, out, multi_class=\"ovr\")\n",
    "        cross_entropy = log_loss(y_test, out_proba)\n",
    "        accuracy = accuracy_score(y_test, out)\n",
    "        \n",
    "        scores[dataset.name] = {\n",
    "            # \"roc\": roc_auc,\n",
    "            \"cross_entropy\": cross_entropy,\n",
    "            \"accuracy\": accuracy\n",
    "        }"
   ],
   "metadata": {
    "collapsed": false,
    "ExecuteTime": {
     "end_time": "2024-02-25T20:29:31.748580277Z",
     "start_time": "2024-02-25T20:28:36.807616563Z"
    }
   },
   "id": "6ec9d2e79c411cde",
   "execution_count": 9
  },
  {
   "cell_type": "code",
   "outputs": [
    {
     "name": "stdout",
     "output_type": "stream",
     "text": [
      "balance-scale {'cross_entropy': 1.3544267552096636, 'accuracy': 0.43769968051118213}\n",
      "mfeat-fourier {'cross_entropy': 2.3083285694510636, 'accuracy': 0.089}\n",
      "breast-w {'cross_entropy': 0.6931471805599453, 'accuracy': 0.64}\n",
      "mfeat-karhunen {'cross_entropy': 2.306787068368388, 'accuracy': 0.092}\n",
      "mfeat-morphological {'cross_entropy': 2.303249967385159, 'accuracy': 0.093}\n",
      "mfeat-zernike {'cross_entropy': 2.305550709071459, 'accuracy': 0.098}\n",
      "cmc {'cross_entropy': 1.0739075624152254, 'accuracy': 0.344640434192673}\n",
      "credit-approval {'cross_entropy': 0.6931471805599454, 'accuracy': 0.5072463768115942}\n",
      "credit-g {'cross_entropy': 0.6184505104881785, 'accuracy': 0.696}\n",
      "diabetes {'cross_entropy': 0.8881034942241587, 'accuracy': 0.6458333333333334}\n",
      "tic-tac-toe {'cross_entropy': 0.8191620821745035, 'accuracy': 0.6430062630480167}\n",
      "vehicle {'cross_entropy': 1.396945918414859, 'accuracy': 0.24349881796690306}\n",
      "eucalyptus {'cross_entropy': 1.6094378975329389, 'accuracy': 0.23097826086956522}\n",
      "analcatdata_authorship {'cross_entropy': 1.548013877815486, 'accuracy': 0.37292161520190026}\n",
      "analcatdata_dmft {'cross_entropy': 1.8066905665831448, 'accuracy': 0.17293233082706766}\n",
      "pc4 {'cross_entropy': 0.3517043011708544, 'accuracy': 0.887517146776406}\n",
      "pc3 {'cross_entropy': 0.3137761674466112, 'accuracy': 0.9053708439897699}\n",
      "kc2 {'cross_entropy': 0.49959714710014197, 'accuracy': 0.8007662835249042}\n",
      "pc1 {'cross_entropy': 0.24969618691933654, 'accuracy': 0.9315315315315316}\n",
      "wdbc {'cross_entropy': 0.6618698667671334, 'accuracy': 0.6280701754385964}\n",
      "qsar-biodeg {'cross_entropy': 0.8725086498903749, 'accuracy': 0.6893939393939394}\n",
      "ilpd {'cross_entropy': 0.5878934487965507, 'accuracy': 0.7328767123287672}\n",
      "banknote-authentication {'cross_entropy': 0.7257811050320996, 'accuracy': 0.5612244897959183}\n",
      "blood-transfusion-service-center {'cross_entropy': 0.5465472691617229, 'accuracy': 0.7647058823529411}\n",
      "MiceProtein {'cross_entropy': 2.0794415416798357, 'accuracy': 0.13148148148148148}\n",
      "steel-plates-fault {'cross_entropy': 1.7139780273257894, 'accuracy': 0.3553038105046344}\n",
      "climate-model-simulation-crashes {'cross_entropy': 2.3406959611472655, 'accuracy': 0.9}\n",
      "car {'cross_entropy': 2.710781613922641, 'accuracy': 0.6979166666666666}\n"
     ]
    }
   ],
   "source": [
    "for n, score in scores.items():\n",
    "    print(n, score)"
   ],
   "metadata": {
    "collapsed": false,
    "ExecuteTime": {
     "end_time": "2024-02-25T20:27:58.221986701Z",
     "start_time": "2024-02-25T20:27:58.179776491Z"
    }
   },
   "id": "9598cee841b010a3",
   "execution_count": 6
  },
  {
   "cell_type": "markdown",
   "source": [
    "3 : loss=0.1690, acc=0.9507 | rec=0.9491\n",
    "11 : loss=0.2526, acc=0.8263 | rec=0.8025\n",
    "14 : loss=0.5841, acc=0.7704 | rec=0.7747\n",
    "15 : loss=nan, acc=0.3295 | rec=0.5000\n",
    "16 : loss=0.2647, acc=0.9336 | rec=0.9341\n",
    "18 : loss=0.7649, acc=0.6760 | rec=0.6736\n",
    "22 : loss=0.4107, acc=0.8285 | rec=0.8313\n",
    "23 : loss=1.0401, acc=0.1406 | rec=0.3333\n",
    "29 : loss=nan, acc=0.2377 | rec=0.5000\n",
    "31 : loss=0.5340, acc=0.6851 | rec=0.5948\n",
    "37 : loss=0.4828, acc=0.7703 | rec=0.7518\n",
    "46 : loss=0.9109, acc=0.5742 | rec=0.5267\n",
    "50 : loss=0.4127, acc=0.7752 | rec=0.7244\n",
    "54 : loss=0.6417, acc=0.6987 | rec=0.7033\n",
    "188 : loss=nan, acc=0.0652 | rec=0.2000\n",
    "38 : loss=nan, acc=0.4706 | rec=0.5000\n",
    "458 : loss=0.0191, acc=0.9958 | rec=0.9964\n",
    "469 : loss=1.8085, acc=0.0327 | rec=0.1667\n",
    "1049 : loss=0.2422, acc=0.9570 | rec=0.6187\n",
    "1050 : loss=0.2954, acc=0.4501 | rec=0.5000\n",
    "1063 : loss=0.4099, acc=0.7803 | rec=0.6860\n",
    "1067 : loss=0.3358, acc=0.5825 | rec=0.5066\n",
    "1068 : loss=0.2535, acc=0.7101 | rec=0.5101\n",
    "1510 : loss=0.0973, acc=0.9519 | rec=0.9586\n",
    "1494 : loss=0.3405, acc=0.8471 | rec=0.8348\n",
    "1480 : loss=0.5533, acc=0.5745 | rec=0.5225\n",
    "1487 : loss=0.1464, acc=0.8084 | rec=0.5150\n",
    "1462 : loss=0.0508, acc=0.9887 | rec=0.9849\n",
    "1464 : loss=0.5115, acc=0.8881 | rec=0.5174\n",
    "6332 : loss=nan, acc=0.2185 | rec=0.5000\n",
    "23381 : loss=0.7787, acc=0.5707 | rec=0.5681\n",
    "40966 : loss=nan, acc=0.0188 | rec=0.1250\n",
    "40982 : loss=0.8137, acc=0.7151 | rec=0.6522\n",
    "40994 : loss=0.2078, acc=0.8597 | rec=0.6902\n",
    "40975 : loss=0.2396, acc=0.8264 | rec=0.6853\n",
    "40984 : loss=0.3858, acc=0.8246 | rec=0.8291\n",
    "40978 : loss=0.2861, acc=0.9171 | rec=0.7535\n",
    "40670 : loss=1.0561, acc=0.1668 | rec=0.3333"
   ],
   "metadata": {
    "collapsed": false
   },
   "id": "94bcb1e3a844e760"
  },
  {
   "cell_type": "code",
   "outputs": [
    {
     "name": "stdout",
     "output_type": "stream",
     "text": [
      "1.2635578795219458\n",
      "0.5104612884481355\n"
     ]
    }
   ],
   "source": [
    "cross_entropy = sum(s[\"cross_entropy\"] for _, s in scores.items()) / len(scores)\n",
    "accuracy = sum(s[\"accuracy\"] for _, s in scores.items()) / len(scores)\n",
    "print(cross_entropy)\n",
    "print(accuracy)"
   ],
   "metadata": {
    "collapsed": false,
    "ExecuteTime": {
     "end_time": "2024-02-25T20:28:23.030960771Z",
     "start_time": "2024-02-25T20:28:23.027885953Z"
    }
   },
   "id": "18a13be171922d13",
   "execution_count": 8
  },
  {
   "cell_type": "markdown",
   "source": [
    "precision = 0.6425595247235737, recall = 0.6251027662503091\n",
    "cross entropy: 0.7661994506457874"
   ],
   "metadata": {
    "collapsed": false
   },
   "id": "93c48ffc15d05530"
  },
  {
   "cell_type": "markdown",
   "source": [
    "Author code :\n",
    "\n",
    "precision = 0.801273051649332, recall = 0.77424192322152\n",
    "cross entropy: 0.8216769727213042\n",
    "acc: 0.837828790733493"
   ],
   "metadata": {
    "collapsed": false
   },
   "id": "b3236daae243f64"
  },
  {
   "cell_type": "code",
   "outputs": [],
   "source": [],
   "metadata": {
    "collapsed": false
   },
   "id": "e75c488da0f61b6b"
  }
 ],
 "metadata": {
  "kernelspec": {
   "display_name": "Python 3",
   "language": "python",
   "name": "python3"
  },
  "language_info": {
   "codemirror_mode": {
    "name": "ipython",
    "version": 2
   },
   "file_extension": ".py",
   "mimetype": "text/x-python",
   "name": "python",
   "nbconvert_exporter": "python",
   "pygments_lexer": "ipython2",
   "version": "2.7.6"
  }
 },
 "nbformat": 4,
 "nbformat_minor": 5
}
