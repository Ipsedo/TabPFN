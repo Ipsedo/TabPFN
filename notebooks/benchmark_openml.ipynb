{
 "cells": [
  {
   "cell_type": "code",
   "execution_count": null,
   "id": "initial_id",
   "metadata": {
    "collapsed": true
   },
   "outputs": [],
   "source": [
    "import openml\n",
    "from tqdm import tqdm\n",
    "import math\n",
    "import torch as th\n",
    "from sklearn.model_selection import train_test_split\n",
    "from sklearn.metrics import log_loss, roc_auc_score , accuracy_score\n",
    "\n",
    "from tabpfn import TabPFNClassifier\n",
    "\n",
    "from tab_pfn.networks import TabPFN, SklearnClassifier"
   ]
  },
  {
   "cell_type": "code",
   "outputs": [],
   "source": [
    "benchmark = openml.study.get_suite('OpenML-CC18')\n",
    "tasks = openml.tasks.list_tasks(task_id=benchmark.tasks, output_format=\"dataframe\")\n",
    "\n",
    "retained_datasets = []\n",
    "\n",
    "for _, row in tqdm(list(tasks.iterrows())):\n",
    "    try:\n",
    "        datasets = openml.tasks.get_task(row[\"tid\"]).get_dataset()\n",
    "    except Exception as e:\n",
    "        print(e)\n",
    "        print(row[\"tid\"])\n",
    "        continue\n",
    "    \n",
    "    if row[\"NumberOfInstances\"] > 2000:\n",
    "        continue\n",
    "    if row[\"NumberOfNumericFeatures\"] > 100:\n",
    "        continue\n",
    "    if datasets.qualities[\"NumberOfClasses\"] > 10:\n",
    "        continue\n",
    "    \n",
    "    retained_datasets.append(openml.tasks.get_task(row[\"tid\"]).get_dataset())"
   ],
   "metadata": {
    "collapsed": false
   },
   "id": "feae5940a59c6899",
   "execution_count": null
  },
  {
   "cell_type": "code",
   "outputs": [],
   "source": [
    "len(retained_datasets)"
   ],
   "metadata": {
    "collapsed": false
   },
   "id": "a62a33067d4948c1",
   "execution_count": null
  },
  {
   "cell_type": "code",
   "outputs": [],
   "source": [
    "tab_pfn = TabPFN(100, 10, 512, 1024, 4, 6)\n",
    "tab_pfn.load_state_dict(th.load(\"/home/samuel/PycharmProjects/TabPFN/out/out_train_trf_big/model_183295.pt\", map_location=\"cuda\"))\n",
    "tab_pfn.eval()\n",
    "tab_pfn.cuda()\n",
    "\n",
    "#tab_pfn_clf = SklearnClassifier.from_torch(tab_pfn)\n",
    "tab_pfn_clf = TabPFNClassifier(device=\"cuda\")\n",
    "\n",
    "scores = {}\n",
    "\n",
    "for dataset in tqdm(retained_datasets):\n",
    "    x, y, _, _ = dataset.get_data(target=dataset.default_target_attribute)\n",
    "\n",
    "    with th.no_grad():\n",
    "        \n",
    "        x_train, x_test, y_train, y_test = train_test_split(x, y, train_size=0.5, test_size=0.5)\n",
    "        \n",
    "        try:\n",
    "            tab_pfn_clf.fit(x_train, y_train)\n",
    "            out_proba = tab_pfn_clf.predict_proba(x_test)\n",
    "            out = tab_pfn_clf.predict(x_test)\n",
    "        except ValueError as ve:\n",
    "            continue\n",
    "        except TypeError as te:\n",
    "            continue\n",
    "        # roc_auc = roc_auc_score(y_test, out, multi_class=\"ovr\")\n",
    "        cross_entropy = log_loss(y_test, out_proba)\n",
    "        accuracy = accuracy_score(y_test, out)\n",
    "        \n",
    "        scores[dataset.name] = {\n",
    "            # \"roc\": roc_auc,\n",
    "            \"cross_entropy\": cross_entropy,\n",
    "            \"accuracy\": accuracy\n",
    "        }"
   ],
   "metadata": {
    "collapsed": false
   },
   "id": "6ec9d2e79c411cde",
   "execution_count": null
  },
  {
   "cell_type": "code",
   "outputs": [],
   "source": [
    "for n, score in scores.items():\n",
    "    print(n, score)"
   ],
   "metadata": {
    "collapsed": false
   },
   "id": "9598cee841b010a3",
   "execution_count": null
  },
  {
   "cell_type": "markdown",
   "source": [
    "3 : loss=0.1690, acc=0.9507 | rec=0.9491\n",
    "11 : loss=0.2526, acc=0.8263 | rec=0.8025\n",
    "14 : loss=0.5841, acc=0.7704 | rec=0.7747\n",
    "15 : loss=nan, acc=0.3295 | rec=0.5000\n",
    "16 : loss=0.2647, acc=0.9336 | rec=0.9341\n",
    "18 : loss=0.7649, acc=0.6760 | rec=0.6736\n",
    "22 : loss=0.4107, acc=0.8285 | rec=0.8313\n",
    "23 : loss=1.0401, acc=0.1406 | rec=0.3333\n",
    "29 : loss=nan, acc=0.2377 | rec=0.5000\n",
    "31 : loss=0.5340, acc=0.6851 | rec=0.5948\n",
    "37 : loss=0.4828, acc=0.7703 | rec=0.7518\n",
    "46 : loss=0.9109, acc=0.5742 | rec=0.5267\n",
    "50 : loss=0.4127, acc=0.7752 | rec=0.7244\n",
    "54 : loss=0.6417, acc=0.6987 | rec=0.7033\n",
    "188 : loss=nan, acc=0.0652 | rec=0.2000\n",
    "38 : loss=nan, acc=0.4706 | rec=0.5000\n",
    "458 : loss=0.0191, acc=0.9958 | rec=0.9964\n",
    "469 : loss=1.8085, acc=0.0327 | rec=0.1667\n",
    "1049 : loss=0.2422, acc=0.9570 | rec=0.6187\n",
    "1050 : loss=0.2954, acc=0.4501 | rec=0.5000\n",
    "1063 : loss=0.4099, acc=0.7803 | rec=0.6860\n",
    "1067 : loss=0.3358, acc=0.5825 | rec=0.5066\n",
    "1068 : loss=0.2535, acc=0.7101 | rec=0.5101\n",
    "1510 : loss=0.0973, acc=0.9519 | rec=0.9586\n",
    "1494 : loss=0.3405, acc=0.8471 | rec=0.8348\n",
    "1480 : loss=0.5533, acc=0.5745 | rec=0.5225\n",
    "1487 : loss=0.1464, acc=0.8084 | rec=0.5150\n",
    "1462 : loss=0.0508, acc=0.9887 | rec=0.9849\n",
    "1464 : loss=0.5115, acc=0.8881 | rec=0.5174\n",
    "6332 : loss=nan, acc=0.2185 | rec=0.5000\n",
    "23381 : loss=0.7787, acc=0.5707 | rec=0.5681\n",
    "40966 : loss=nan, acc=0.0188 | rec=0.1250\n",
    "40982 : loss=0.8137, acc=0.7151 | rec=0.6522\n",
    "40994 : loss=0.2078, acc=0.8597 | rec=0.6902\n",
    "40975 : loss=0.2396, acc=0.8264 | rec=0.6853\n",
    "40984 : loss=0.3858, acc=0.8246 | rec=0.8291\n",
    "40978 : loss=0.2861, acc=0.9171 | rec=0.7535\n",
    "40670 : loss=1.0561, acc=0.1668 | rec=0.3333"
   ],
   "metadata": {
    "collapsed": false
   },
   "id": "94bcb1e3a844e760"
  },
  {
   "cell_type": "code",
   "outputs": [],
   "source": [
    "cross_entropy = sum(s[\"cross_entropy\"] for _, s in scores.items()) / len(scores)\n",
    "accuracy = sum(s[\"accuracy\"] for _, s in scores.items()) / len(scores)\n",
    "print(\"cross_entropy\", cross_entropy)\n",
    "print(\"accuracy\", accuracy)"
   ],
   "metadata": {
    "collapsed": false
   },
   "id": "18a13be171922d13",
   "execution_count": null
  },
  {
   "cell_type": "markdown",
   "source": [
    "Our model :\n",
    "\n",
    "cross_entropy 0.5815344112381117\n",
    "accuracy 0.7349593118393449"
   ],
   "metadata": {
    "collapsed": false
   },
   "id": "93c48ffc15d05530"
  },
  {
   "cell_type": "markdown",
   "source": [
    "Author code :\n",
    "\n",
    "cross_entropy 0.2765864623252986\n",
    "accuracy 0.8887808004275888"
   ],
   "metadata": {
    "collapsed": false
   },
   "id": "b3236daae243f64"
  },
  {
   "cell_type": "code",
   "outputs": [],
   "source": [],
   "metadata": {
    "collapsed": false
   },
   "id": "e75c488da0f61b6b"
  }
 ],
 "metadata": {
  "kernelspec": {
   "display_name": "Python 3",
   "language": "python",
   "name": "python3"
  },
  "language_info": {
   "codemirror_mode": {
    "name": "ipython",
    "version": 2
   },
   "file_extension": ".py",
   "mimetype": "text/x-python",
   "name": "python",
   "nbconvert_exporter": "python",
   "pygments_lexer": "ipython2",
   "version": "2.7.6"
  }
 },
 "nbformat": 4,
 "nbformat_minor": 5
}
