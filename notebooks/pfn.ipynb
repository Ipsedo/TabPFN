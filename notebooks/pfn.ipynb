{
 "cells": [
  {
   "cell_type": "code",
   "execution_count": null,
   "id": "initial_id",
   "metadata": {
    "collapsed": true
   },
   "outputs": [],
   "source": [
    "import torch as th\n",
    "from torch import nn"
   ]
  },
  {
   "cell_type": "code",
   "outputs": [],
   "source": [
    "x = th.randn(10, 128)\n",
    "y = th.randint(0, 4, (10,))"
   ],
   "metadata": {
    "collapsed": false
   },
   "id": "dab1f3b9a4b2f78a",
   "execution_count": null
  },
  {
   "cell_type": "code",
   "outputs": [],
   "source": [
    "class DataEncoder(nn.Module):\n",
    "    def __init__(self, x_max_dim: int, nb_class_max: int, y_emb_dim :int, hidden_dim: int, output_dim: int) -> None:\n",
    "        super().__init__()\n",
    "        \n",
    "        self.__y_emb = nn.Embedding(nb_class_max, y_emb_dim)\n",
    "        \n",
    "        self.__encoder = nn.Sequential(\n",
    "            nn.Linear(x_max_dim + y_emb_dim, hidden_dim),\n",
    "            nn.Mish(),\n",
    "            nn.BatchNorm1d(hidden_dim),\n",
    "            nn.Linear(hidden_dim, hidden_dim),\n",
    "            nn.Mish(),\n",
    "            nn.BatchNorm1d(hidden_dim),\n",
    "            nn.Linear(hidden_dim, output_dim),\n",
    "            nn.Mish(),\n",
    "            nn.BatchNorm1d(output_dim),\n",
    "        )\n",
    "    \n",
    "    def forward(self, x: th.Tensor, y: th.Tensor) -> th.Tensor:\n",
    "        y_emb = self.__y_emb(y)\n",
    "        \n",
    "        out = th.cat([x, y_emb], dim=1)\n",
    "        out = self.__encoder(out)\n",
    "        \n",
    "        return out"
   ],
   "metadata": {
    "collapsed": false
   },
   "id": "ad40edcd5ae1fe90",
   "execution_count": null
  },
  {
   "cell_type": "code",
   "outputs": [],
   "source": [
    "enc= DataEncoder(128, 5, 128, 128, 128)"
   ],
   "metadata": {
    "collapsed": false
   },
   "id": "2e5d7f278b33f978",
   "execution_count": null
  },
  {
   "cell_type": "code",
   "outputs": [],
   "source": [
    "o = enc(x, y)"
   ],
   "metadata": {
    "collapsed": false
   },
   "id": "3ea6ed360e958b52",
   "execution_count": null
  },
  {
   "cell_type": "code",
   "outputs": [],
   "source": [
    "o.size()"
   ],
   "metadata": {
    "collapsed": false
   },
   "id": "9266a8f68f5530e7",
   "execution_count": null
  },
  {
   "cell_type": "code",
   "outputs": [],
   "source": [],
   "metadata": {
    "collapsed": false
   },
   "id": "92f77f7b53a6d83c"
  }
 ],
 "metadata": {
  "kernelspec": {
   "display_name": "Python 3",
   "language": "python",
   "name": "python3"
  },
  "language_info": {
   "codemirror_mode": {
    "name": "ipython",
    "version": 2
   },
   "file_extension": ".py",
   "mimetype": "text/x-python",
   "name": "python",
   "nbconvert_exporter": "python",
   "pygments_lexer": "ipython2",
   "version": "2.7.6"
  }
 },
 "nbformat": 4,
 "nbformat_minor": 5
}
