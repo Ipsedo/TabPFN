{
 "cells": [
  {
   "cell_type": "code",
   "execution_count": 2,
   "id": "initial_id",
   "metadata": {
    "collapsed": true,
    "ExecuteTime": {
     "end_time": "2024-02-14T13:27:25.231640925Z",
     "start_time": "2024-02-14T13:27:24.087239700Z"
    }
   },
   "outputs": [],
   "source": [
    "import torch as th\n",
    "from torch import nn"
   ]
  },
  {
   "cell_type": "code",
   "outputs": [],
   "source": [
    "x = th.randn(10, 128)\n",
    "y = th.randint(0, 4, (10,))"
   ],
   "metadata": {
    "collapsed": false,
    "ExecuteTime": {
     "end_time": "2024-02-14T13:27:25.238024602Z",
     "start_time": "2024-02-14T13:27:25.233050919Z"
    }
   },
   "id": "dab1f3b9a4b2f78a",
   "execution_count": 3
  },
  {
   "cell_type": "code",
   "outputs": [],
   "source": [
    "class DataAndLabelEncoder(nn.Module):\n",
    "    def __init__(self, x_max_dim: int, nb_class_max: int, y_emb_dim :int, hidden_dim: int, output_dim: int) -> None:\n",
    "        super().__init__()\n",
    "        \n",
    "        self.__y_emb = nn.Embedding(nb_class_max, y_emb_dim)\n",
    "        \n",
    "        self.__encoder = nn.Sequential(\n",
    "            nn.Linear(x_max_dim + y_emb_dim, hidden_dim),\n",
    "            nn.Mish(),\n",
    "            nn.BatchNorm1d(hidden_dim),\n",
    "            nn.Linear(hidden_dim, hidden_dim),\n",
    "            nn.Mish(),\n",
    "            nn.BatchNorm1d(hidden_dim),\n",
    "            nn.Linear(hidden_dim, output_dim),\n",
    "            nn.Mish(),\n",
    "            nn.BatchNorm1d(output_dim),\n",
    "        )\n",
    "    \n",
    "    def forward(self, x: th.Tensor, y: th.Tensor) -> th.Tensor:\n",
    "        y_emb = self.__y_emb(y)\n",
    "        \n",
    "        out = th.cat([x, y_emb], dim=1)\n",
    "        out = self.__encoder(out)\n",
    "        \n",
    "        return out"
   ],
   "metadata": {
    "collapsed": false,
    "ExecuteTime": {
     "end_time": "2024-02-14T13:27:29.199338552Z",
     "start_time": "2024-02-14T13:27:29.195472529Z"
    }
   },
   "id": "ad40edcd5ae1fe90",
   "execution_count": 4
  },
  {
   "cell_type": "code",
   "outputs": [],
   "source": [
    "class DataEncoder(nn.Sequential):\n",
    "    def __init__(self, x_max_dim: int, hidden_dim: int, output_dim: int) -> None:\n",
    "        super().__init__(\n",
    "            nn.Linear(x_max_dim, hidden_dim),\n",
    "            nn.Mish(),\n",
    "            nn.BatchNorm1d(hidden_dim),\n",
    "            nn.Linear(hidden_dim, hidden_dim),\n",
    "            nn.Mish(),\n",
    "            nn.BatchNorm1d(hidden_dim),\n",
    "            nn.Linear(hidden_dim, output_dim),\n",
    "            nn.Mish(),\n",
    "            nn.BatchNorm1d(output_dim)\n",
    "        )"
   ],
   "metadata": {
    "collapsed": false,
    "ExecuteTime": {
     "end_time": "2024-02-14T13:27:51.247946530Z",
     "start_time": "2024-02-14T13:27:51.205363883Z"
    }
   },
   "id": "51068960163bc7a5",
   "execution_count": 9
  },
  {
   "cell_type": "code",
   "outputs": [],
   "source": [
    "enc= DataAndLabelEncoder(128, 5, 128, 128, 128)"
   ],
   "metadata": {
    "collapsed": false,
    "ExecuteTime": {
     "end_time": "2024-02-14T13:27:36.436201198Z",
     "start_time": "2024-02-14T13:27:36.432381390Z"
    }
   },
   "id": "2e5d7f278b33f978",
   "execution_count": 6
  },
  {
   "cell_type": "code",
   "outputs": [],
   "source": [
    "o = enc(x, y)"
   ],
   "metadata": {
    "collapsed": false,
    "ExecuteTime": {
     "end_time": "2024-02-14T13:27:37.136556232Z",
     "start_time": "2024-02-14T13:27:37.130173936Z"
    }
   },
   "id": "3ea6ed360e958b52",
   "execution_count": 7
  },
  {
   "cell_type": "code",
   "outputs": [
    {
     "data": {
      "text/plain": "torch.Size([10, 128])"
     },
     "execution_count": 8,
     "metadata": {},
     "output_type": "execute_result"
    }
   ],
   "source": [
    "o.size()"
   ],
   "metadata": {
    "collapsed": false,
    "ExecuteTime": {
     "end_time": "2024-02-14T13:27:37.778352060Z",
     "start_time": "2024-02-14T13:27:37.774877216Z"
    }
   },
   "id": "9266a8f68f5530e7",
   "execution_count": 8
  },
  {
   "cell_type": "code",
   "outputs": [],
   "source": [
    "enc2 = DataEncoder(128, 128, 128)"
   ],
   "metadata": {
    "collapsed": false,
    "ExecuteTime": {
     "end_time": "2024-02-14T13:28:01.137976701Z",
     "start_time": "2024-02-14T13:28:01.126566998Z"
    }
   },
   "id": "92f77f7b53a6d83c",
   "execution_count": 10
  },
  {
   "cell_type": "code",
   "outputs": [],
   "source": [
    "o = enc2(x)"
   ],
   "metadata": {
    "collapsed": false,
    "ExecuteTime": {
     "end_time": "2024-02-14T13:28:05.944024242Z",
     "start_time": "2024-02-14T13:28:05.937777988Z"
    }
   },
   "id": "791cba87fed271ef",
   "execution_count": 11
  },
  {
   "cell_type": "code",
   "outputs": [
    {
     "data": {
      "text/plain": "torch.Size([10, 128])"
     },
     "execution_count": 12,
     "metadata": {},
     "output_type": "execute_result"
    }
   ],
   "source": [
    "o.size()"
   ],
   "metadata": {
    "collapsed": false,
    "ExecuteTime": {
     "end_time": "2024-02-14T13:28:08.429100065Z",
     "start_time": "2024-02-14T13:28:08.423668393Z"
    }
   },
   "id": "6a24b3c3fa8e1491",
   "execution_count": 12
  },
  {
   "cell_type": "code",
   "outputs": [],
   "source": [],
   "metadata": {
    "collapsed": false
   },
   "id": "10b97392120f1f94"
  }
 ],
 "metadata": {
  "kernelspec": {
   "display_name": "Python 3",
   "language": "python",
   "name": "python3"
  },
  "language_info": {
   "codemirror_mode": {
    "name": "ipython",
    "version": 2
   },
   "file_extension": ".py",
   "mimetype": "text/x-python",
   "name": "python",
   "nbconvert_exporter": "python",
   "pygments_lexer": "ipython2",
   "version": "2.7.6"
  }
 },
 "nbformat": 4,
 "nbformat_minor": 5
}
