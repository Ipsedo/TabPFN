{
 "cells": [
  {
   "cell_type": "code",
   "execution_count": null,
   "id": "initial_id",
   "metadata": {
    "collapsed": true
   },
   "outputs": [],
   "source": [
    "from sklearn.metrics import accuracy_score\n",
    "from sklearn.datasets import load_breast_cancer\n",
    "from sklearn.model_selection import train_test_split\n",
    "from tqdm import tqdm\n",
    "from statistics import mean\n",
    "\n",
    "import torch as th\n",
    "\n",
    "from tabpfn import TabPFNClassifier\n",
    "\n",
    "from tab_pfn.networks import SCM\n",
    "from tab_pfn.metrics import ConfusionMeter\n",
    "\n",
    "import warnings\n",
    "\n",
    "warnings.filterwarnings(\"ignore\")"
   ]
  },
  {
   "cell_type": "code",
   "outputs": [],
   "source": [
    "classifier = TabPFNClassifier(device='cuda', N_ensemble_configurations=32)"
   ],
   "metadata": {
    "collapsed": false
   },
   "id": "21e5ebdb86036c97",
   "execution_count": null
  },
  {
   "cell_type": "code",
   "outputs": [],
   "source": [
    "n_datasets = 128\n",
    "\n",
    "prec, rec = [], []\n",
    "nb = 0\n",
    "\n",
    "for _ in tqdm(range(n_datasets)):\n",
    "    scm = SCM(100, (10, 10), False)\n",
    "    x, y = scm(1024)\n",
    "    x_train, x_test, y_train, y_test = train_test_split(x, y, test_size=0.33, random_state=42)\n",
    "    \n",
    "    try:\n",
    "        classifier.fit(x_train, y_train)\n",
    "        p_eval = classifier.predict_proba(x_test)\n",
    "        conf_meter = ConfusionMeter(scm.nb_class)\n",
    "        conf_meter.add(th.tensor(p_eval), y_test)\n",
    "        prec.append(conf_meter.precision().sum().item())\n",
    "        rec.append(conf_meter.recall().sum().item())\n",
    "        nb += conf_meter.recall().size(0)\n",
    "    except ValueError:\n",
    "        pass"
   ],
   "metadata": {
    "collapsed": false
   },
   "id": "3ba98178fcb609d8",
   "execution_count": null
  },
  {
   "cell_type": "code",
   "outputs": [],
   "source": [
    "sum(prec)/nb, sum(rec)/nb, len(prec)"
   ],
   "metadata": {
    "collapsed": false
   },
   "id": "c6bc818e68043437",
   "execution_count": null
  },
  {
   "cell_type": "code",
   "outputs": [],
   "source": [],
   "metadata": {
    "collapsed": false
   },
   "id": "d3c8ed549e144c38"
  }
 ],
 "metadata": {
  "kernelspec": {
   "display_name": "Python 3",
   "language": "python",
   "name": "python3"
  },
  "language_info": {
   "codemirror_mode": {
    "name": "ipython",
    "version": 2
   },
   "file_extension": ".py",
   "mimetype": "text/x-python",
   "name": "python",
   "nbconvert_exporter": "python",
   "pygments_lexer": "ipython2",
   "version": "2.7.6"
  }
 },
 "nbformat": 4,
 "nbformat_minor": 5
}
