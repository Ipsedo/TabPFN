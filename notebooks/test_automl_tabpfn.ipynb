{
 "cells": [
  {
   "cell_type": "code",
   "execution_count": 1,
   "id": "initial_id",
   "metadata": {
    "collapsed": true,
    "ExecuteTime": {
     "end_time": "2024-02-20T20:03:08.843889456Z",
     "start_time": "2024-02-20T20:03:06.916249272Z"
    }
   },
   "outputs": [],
   "source": [
    "from sklearn.metrics import accuracy_score\n",
    "from sklearn.datasets import load_breast_cancer\n",
    "from sklearn.model_selection import train_test_split\n",
    "from tqdm import tqdm\n",
    "from statistics import mean\n",
    "import pandas as pd\n",
    "\n",
    "import torch as th\n",
    "\n",
    "from tabpfn import TabPFNClassifier\n",
    "\n",
    "from tab_pfn.networks import SCM, TabPFN\n",
    "from tab_pfn.metrics import AccuracyMeter\n",
    "\n",
    "import warnings\n",
    "\n",
    "warnings.filterwarnings(\"ignore\")"
   ]
  },
  {
   "cell_type": "code",
   "outputs": [
    {
     "name": "stderr",
     "output_type": "stream",
     "text": [
      "  0%|          | 0/128 [00:00<?, ?it/s]/home/samuel/PycharmProjects/TabPFN/venv/lib/python3.11/site-packages/torch/utils/checkpoint.py:460: UserWarning: torch.utils.checkpoint: please pass in use_reentrant=True or use_reentrant=False explicitly. The default value of use_reentrant will be updated to be False in the future. To maintain current behavior, pass use_reentrant=True. It is recommended that you use use_reentrant=False. Refer to docs for more details on the differences between the two variants.\n",
      "  warnings.warn(\n",
      "  1%|          | 1/128 [00:00<01:04,  1.96it/s]/home/samuel/PycharmProjects/TabPFN/venv/lib/python3.11/site-packages/torch/utils/checkpoint.py:460: UserWarning: torch.utils.checkpoint: please pass in use_reentrant=True or use_reentrant=False explicitly. The default value of use_reentrant will be updated to be False in the future. To maintain current behavior, pass use_reentrant=True. It is recommended that you use use_reentrant=False. Refer to docs for more details on the differences between the two variants.\n",
      "  warnings.warn(\n",
      "  2%|▏         | 2/128 [00:01<01:12,  1.75it/s]/home/samuel/PycharmProjects/TabPFN/venv/lib/python3.11/site-packages/torch/utils/checkpoint.py:460: UserWarning: torch.utils.checkpoint: please pass in use_reentrant=True or use_reentrant=False explicitly. The default value of use_reentrant will be updated to be False in the future. To maintain current behavior, pass use_reentrant=True. It is recommended that you use use_reentrant=False. Refer to docs for more details on the differences between the two variants.\n",
      "  warnings.warn(\n",
      "  2%|▏         | 3/128 [00:01<01:07,  1.85it/s]/home/samuel/PycharmProjects/TabPFN/venv/lib/python3.11/site-packages/torch/utils/checkpoint.py:460: UserWarning: torch.utils.checkpoint: please pass in use_reentrant=True or use_reentrant=False explicitly. The default value of use_reentrant will be updated to be False in the future. To maintain current behavior, pass use_reentrant=True. It is recommended that you use use_reentrant=False. Refer to docs for more details on the differences between the two variants.\n",
      "  warnings.warn(\n",
      "  3%|▎         | 4/128 [00:02<01:14,  1.66it/s]/home/samuel/PycharmProjects/TabPFN/venv/lib/python3.11/site-packages/torch/utils/checkpoint.py:460: UserWarning: torch.utils.checkpoint: please pass in use_reentrant=True or use_reentrant=False explicitly. The default value of use_reentrant will be updated to be False in the future. To maintain current behavior, pass use_reentrant=True. It is recommended that you use use_reentrant=False. Refer to docs for more details on the differences between the two variants.\n",
      "  warnings.warn(\n",
      "  4%|▍         | 5/128 [00:02<01:13,  1.68it/s]/home/samuel/PycharmProjects/TabPFN/venv/lib/python3.11/site-packages/torch/utils/checkpoint.py:460: UserWarning: torch.utils.checkpoint: please pass in use_reentrant=True or use_reentrant=False explicitly. The default value of use_reentrant will be updated to be False in the future. To maintain current behavior, pass use_reentrant=True. It is recommended that you use use_reentrant=False. Refer to docs for more details on the differences between the two variants.\n",
      "  warnings.warn(\n",
      "  5%|▍         | 6/128 [00:03<01:13,  1.67it/s]/home/samuel/PycharmProjects/TabPFN/venv/lib/python3.11/site-packages/torch/utils/checkpoint.py:460: UserWarning: torch.utils.checkpoint: please pass in use_reentrant=True or use_reentrant=False explicitly. The default value of use_reentrant will be updated to be False in the future. To maintain current behavior, pass use_reentrant=True. It is recommended that you use use_reentrant=False. Refer to docs for more details on the differences between the two variants.\n",
      "  warnings.warn(\n",
      "  5%|▌         | 7/128 [00:04<01:18,  1.55it/s]/home/samuel/PycharmProjects/TabPFN/venv/lib/python3.11/site-packages/torch/utils/checkpoint.py:460: UserWarning: torch.utils.checkpoint: please pass in use_reentrant=True or use_reentrant=False explicitly. The default value of use_reentrant will be updated to be False in the future. To maintain current behavior, pass use_reentrant=True. It is recommended that you use use_reentrant=False. Refer to docs for more details on the differences between the two variants.\n",
      "  warnings.warn(\n",
      "  6%|▋         | 8/128 [00:04<01:15,  1.58it/s]/home/samuel/PycharmProjects/TabPFN/venv/lib/python3.11/site-packages/torch/utils/checkpoint.py:460: UserWarning: torch.utils.checkpoint: please pass in use_reentrant=True or use_reentrant=False explicitly. The default value of use_reentrant will be updated to be False in the future. To maintain current behavior, pass use_reentrant=True. It is recommended that you use use_reentrant=False. Refer to docs for more details on the differences between the two variants.\n",
      "  warnings.warn(\n",
      "  7%|▋         | 9/128 [00:05<01:16,  1.56it/s]/home/samuel/PycharmProjects/TabPFN/venv/lib/python3.11/site-packages/torch/utils/checkpoint.py:460: UserWarning: torch.utils.checkpoint: please pass in use_reentrant=True or use_reentrant=False explicitly. The default value of use_reentrant will be updated to be False in the future. To maintain current behavior, pass use_reentrant=True. It is recommended that you use use_reentrant=False. Refer to docs for more details on the differences between the two variants.\n",
      "  warnings.warn(\n",
      "  8%|▊         | 10/128 [00:06<01:11,  1.65it/s]/home/samuel/PycharmProjects/TabPFN/venv/lib/python3.11/site-packages/torch/utils/checkpoint.py:460: UserWarning: torch.utils.checkpoint: please pass in use_reentrant=True or use_reentrant=False explicitly. The default value of use_reentrant will be updated to be False in the future. To maintain current behavior, pass use_reentrant=True. It is recommended that you use use_reentrant=False. Refer to docs for more details on the differences between the two variants.\n",
      "  warnings.warn(\n",
      "  9%|▊         | 11/128 [00:06<01:08,  1.71it/s]/home/samuel/PycharmProjects/TabPFN/venv/lib/python3.11/site-packages/torch/utils/checkpoint.py:460: UserWarning: torch.utils.checkpoint: please pass in use_reentrant=True or use_reentrant=False explicitly. The default value of use_reentrant will be updated to be False in the future. To maintain current behavior, pass use_reentrant=True. It is recommended that you use use_reentrant=False. Refer to docs for more details on the differences between the two variants.\n",
      "  warnings.warn(\n",
      "  9%|▉         | 12/128 [00:07<01:12,  1.60it/s]/home/samuel/PycharmProjects/TabPFN/venv/lib/python3.11/site-packages/torch/utils/checkpoint.py:460: UserWarning: torch.utils.checkpoint: please pass in use_reentrant=True or use_reentrant=False explicitly. The default value of use_reentrant will be updated to be False in the future. To maintain current behavior, pass use_reentrant=True. It is recommended that you use use_reentrant=False. Refer to docs for more details on the differences between the two variants.\n",
      "  warnings.warn(\n",
      " 10%|█         | 13/128 [00:07<01:13,  1.57it/s]/home/samuel/PycharmProjects/TabPFN/venv/lib/python3.11/site-packages/torch/utils/checkpoint.py:460: UserWarning: torch.utils.checkpoint: please pass in use_reentrant=True or use_reentrant=False explicitly. The default value of use_reentrant will be updated to be False in the future. To maintain current behavior, pass use_reentrant=True. It is recommended that you use use_reentrant=False. Refer to docs for more details on the differences between the two variants.\n",
      "  warnings.warn(\n",
      " 11%|█         | 14/128 [00:08<01:11,  1.60it/s]/home/samuel/PycharmProjects/TabPFN/venv/lib/python3.11/site-packages/torch/utils/checkpoint.py:460: UserWarning: torch.utils.checkpoint: please pass in use_reentrant=True or use_reentrant=False explicitly. The default value of use_reentrant will be updated to be False in the future. To maintain current behavior, pass use_reentrant=True. It is recommended that you use use_reentrant=False. Refer to docs for more details on the differences between the two variants.\n",
      "  warnings.warn(\n",
      " 12%|█▏        | 15/128 [00:09<01:10,  1.60it/s]/home/samuel/PycharmProjects/TabPFN/venv/lib/python3.11/site-packages/torch/utils/checkpoint.py:460: UserWarning: torch.utils.checkpoint: please pass in use_reentrant=True or use_reentrant=False explicitly. The default value of use_reentrant will be updated to be False in the future. To maintain current behavior, pass use_reentrant=True. It is recommended that you use use_reentrant=False. Refer to docs for more details on the differences between the two variants.\n",
      "  warnings.warn(\n",
      " 12%|█▎        | 16/128 [00:09<01:08,  1.64it/s]/home/samuel/PycharmProjects/TabPFN/venv/lib/python3.11/site-packages/torch/utils/checkpoint.py:460: UserWarning: torch.utils.checkpoint: please pass in use_reentrant=True or use_reentrant=False explicitly. The default value of use_reentrant will be updated to be False in the future. To maintain current behavior, pass use_reentrant=True. It is recommended that you use use_reentrant=False. Refer to docs for more details on the differences between the two variants.\n",
      "  warnings.warn(\n",
      " 13%|█▎        | 17/128 [00:10<01:08,  1.62it/s]/home/samuel/PycharmProjects/TabPFN/venv/lib/python3.11/site-packages/torch/utils/checkpoint.py:460: UserWarning: torch.utils.checkpoint: please pass in use_reentrant=True or use_reentrant=False explicitly. The default value of use_reentrant will be updated to be False in the future. To maintain current behavior, pass use_reentrant=True. It is recommended that you use use_reentrant=False. Refer to docs for more details on the differences between the two variants.\n",
      "  warnings.warn(\n",
      " 14%|█▍        | 18/128 [00:10<01:06,  1.65it/s]/home/samuel/PycharmProjects/TabPFN/venv/lib/python3.11/site-packages/torch/utils/checkpoint.py:460: UserWarning: torch.utils.checkpoint: please pass in use_reentrant=True or use_reentrant=False explicitly. The default value of use_reentrant will be updated to be False in the future. To maintain current behavior, pass use_reentrant=True. It is recommended that you use use_reentrant=False. Refer to docs for more details on the differences between the two variants.\n",
      "  warnings.warn(\n",
      " 15%|█▍        | 19/128 [00:11<01:09,  1.57it/s]/home/samuel/PycharmProjects/TabPFN/venv/lib/python3.11/site-packages/torch/utils/checkpoint.py:460: UserWarning: torch.utils.checkpoint: please pass in use_reentrant=True or use_reentrant=False explicitly. The default value of use_reentrant will be updated to be False in the future. To maintain current behavior, pass use_reentrant=True. It is recommended that you use use_reentrant=False. Refer to docs for more details on the differences between the two variants.\n",
      "  warnings.warn(\n",
      " 16%|█▌        | 20/128 [00:12<01:06,  1.63it/s]/home/samuel/PycharmProjects/TabPFN/venv/lib/python3.11/site-packages/torch/utils/checkpoint.py:460: UserWarning: torch.utils.checkpoint: please pass in use_reentrant=True or use_reentrant=False explicitly. The default value of use_reentrant will be updated to be False in the future. To maintain current behavior, pass use_reentrant=True. It is recommended that you use use_reentrant=False. Refer to docs for more details on the differences between the two variants.\n",
      "  warnings.warn(\n",
      " 16%|█▋        | 21/128 [00:13<01:10,  1.52it/s]/home/samuel/PycharmProjects/TabPFN/venv/lib/python3.11/site-packages/torch/utils/checkpoint.py:460: UserWarning: torch.utils.checkpoint: please pass in use_reentrant=True or use_reentrant=False explicitly. The default value of use_reentrant will be updated to be False in the future. To maintain current behavior, pass use_reentrant=True. It is recommended that you use use_reentrant=False. Refer to docs for more details on the differences between the two variants.\n",
      "  warnings.warn(\n",
      " 17%|█▋        | 22/128 [00:13<01:05,  1.62it/s]/home/samuel/PycharmProjects/TabPFN/venv/lib/python3.11/site-packages/torch/utils/checkpoint.py:460: UserWarning: torch.utils.checkpoint: please pass in use_reentrant=True or use_reentrant=False explicitly. The default value of use_reentrant will be updated to be False in the future. To maintain current behavior, pass use_reentrant=True. It is recommended that you use use_reentrant=False. Refer to docs for more details on the differences between the two variants.\n",
      "  warnings.warn(\n",
      " 18%|█▊        | 23/128 [00:14<01:05,  1.60it/s]/home/samuel/PycharmProjects/TabPFN/venv/lib/python3.11/site-packages/torch/utils/checkpoint.py:460: UserWarning: torch.utils.checkpoint: please pass in use_reentrant=True or use_reentrant=False explicitly. The default value of use_reentrant will be updated to be False in the future. To maintain current behavior, pass use_reentrant=True. It is recommended that you use use_reentrant=False. Refer to docs for more details on the differences between the two variants.\n",
      "  warnings.warn(\n",
      " 19%|█▉        | 24/128 [00:14<01:06,  1.55it/s]/home/samuel/PycharmProjects/TabPFN/venv/lib/python3.11/site-packages/torch/utils/checkpoint.py:460: UserWarning: torch.utils.checkpoint: please pass in use_reentrant=True or use_reentrant=False explicitly. The default value of use_reentrant will be updated to be False in the future. To maintain current behavior, pass use_reentrant=True. It is recommended that you use use_reentrant=False. Refer to docs for more details on the differences between the two variants.\n",
      "  warnings.warn(\n",
      " 20%|█▉        | 25/128 [00:15<01:10,  1.47it/s]/home/samuel/PycharmProjects/TabPFN/venv/lib/python3.11/site-packages/torch/utils/checkpoint.py:460: UserWarning: torch.utils.checkpoint: please pass in use_reentrant=True or use_reentrant=False explicitly. The default value of use_reentrant will be updated to be False in the future. To maintain current behavior, pass use_reentrant=True. It is recommended that you use use_reentrant=False. Refer to docs for more details on the differences between the two variants.\n",
      "  warnings.warn(\n",
      " 20%|██        | 26/128 [00:16<01:07,  1.52it/s]/home/samuel/PycharmProjects/TabPFN/venv/lib/python3.11/site-packages/torch/utils/checkpoint.py:460: UserWarning: torch.utils.checkpoint: please pass in use_reentrant=True or use_reentrant=False explicitly. The default value of use_reentrant will be updated to be False in the future. To maintain current behavior, pass use_reentrant=True. It is recommended that you use use_reentrant=False. Refer to docs for more details on the differences between the two variants.\n",
      "  warnings.warn(\n",
      " 21%|██        | 27/128 [00:16<01:04,  1.57it/s]/home/samuel/PycharmProjects/TabPFN/venv/lib/python3.11/site-packages/torch/utils/checkpoint.py:460: UserWarning: torch.utils.checkpoint: please pass in use_reentrant=True or use_reentrant=False explicitly. The default value of use_reentrant will be updated to be False in the future. To maintain current behavior, pass use_reentrant=True. It is recommended that you use use_reentrant=False. Refer to docs for more details on the differences between the two variants.\n",
      "  warnings.warn(\n",
      " 22%|██▏       | 28/128 [00:17<01:00,  1.66it/s]/home/samuel/PycharmProjects/TabPFN/venv/lib/python3.11/site-packages/torch/utils/checkpoint.py:460: UserWarning: torch.utils.checkpoint: please pass in use_reentrant=True or use_reentrant=False explicitly. The default value of use_reentrant will be updated to be False in the future. To maintain current behavior, pass use_reentrant=True. It is recommended that you use use_reentrant=False. Refer to docs for more details on the differences between the two variants.\n",
      "  warnings.warn(\n",
      " 23%|██▎       | 29/128 [00:18<01:02,  1.59it/s]/home/samuel/PycharmProjects/TabPFN/venv/lib/python3.11/site-packages/torch/utils/checkpoint.py:460: UserWarning: torch.utils.checkpoint: please pass in use_reentrant=True or use_reentrant=False explicitly. The default value of use_reentrant will be updated to be False in the future. To maintain current behavior, pass use_reentrant=True. It is recommended that you use use_reentrant=False. Refer to docs for more details on the differences between the two variants.\n",
      "  warnings.warn(\n",
      " 23%|██▎       | 30/128 [00:18<01:03,  1.55it/s]/home/samuel/PycharmProjects/TabPFN/venv/lib/python3.11/site-packages/torch/utils/checkpoint.py:460: UserWarning: torch.utils.checkpoint: please pass in use_reentrant=True or use_reentrant=False explicitly. The default value of use_reentrant will be updated to be False in the future. To maintain current behavior, pass use_reentrant=True. It is recommended that you use use_reentrant=False. Refer to docs for more details on the differences between the two variants.\n",
      "  warnings.warn(\n",
      " 24%|██▍       | 31/128 [00:19<01:01,  1.57it/s]/home/samuel/PycharmProjects/TabPFN/venv/lib/python3.11/site-packages/torch/utils/checkpoint.py:460: UserWarning: torch.utils.checkpoint: please pass in use_reentrant=True or use_reentrant=False explicitly. The default value of use_reentrant will be updated to be False in the future. To maintain current behavior, pass use_reentrant=True. It is recommended that you use use_reentrant=False. Refer to docs for more details on the differences between the two variants.\n",
      "  warnings.warn(\n",
      " 25%|██▌       | 32/128 [00:20<01:03,  1.51it/s]/home/samuel/PycharmProjects/TabPFN/venv/lib/python3.11/site-packages/torch/utils/checkpoint.py:460: UserWarning: torch.utils.checkpoint: please pass in use_reentrant=True or use_reentrant=False explicitly. The default value of use_reentrant will be updated to be False in the future. To maintain current behavior, pass use_reentrant=True. It is recommended that you use use_reentrant=False. Refer to docs for more details on the differences between the two variants.\n",
      "  warnings.warn(\n",
      " 26%|██▌       | 33/128 [00:20<01:06,  1.44it/s]/home/samuel/PycharmProjects/TabPFN/venv/lib/python3.11/site-packages/torch/utils/checkpoint.py:460: UserWarning: torch.utils.checkpoint: please pass in use_reentrant=True or use_reentrant=False explicitly. The default value of use_reentrant will be updated to be False in the future. To maintain current behavior, pass use_reentrant=True. It is recommended that you use use_reentrant=False. Refer to docs for more details on the differences between the two variants.\n",
      "  warnings.warn(\n",
      " 27%|██▋       | 34/128 [00:21<01:05,  1.44it/s]/home/samuel/PycharmProjects/TabPFN/venv/lib/python3.11/site-packages/torch/utils/checkpoint.py:460: UserWarning: torch.utils.checkpoint: please pass in use_reentrant=True or use_reentrant=False explicitly. The default value of use_reentrant will be updated to be False in the future. To maintain current behavior, pass use_reentrant=True. It is recommended that you use use_reentrant=False. Refer to docs for more details on the differences between the two variants.\n",
      "  warnings.warn(\n",
      " 27%|██▋       | 35/128 [00:22<01:00,  1.54it/s]/home/samuel/PycharmProjects/TabPFN/venv/lib/python3.11/site-packages/torch/utils/checkpoint.py:460: UserWarning: torch.utils.checkpoint: please pass in use_reentrant=True or use_reentrant=False explicitly. The default value of use_reentrant will be updated to be False in the future. To maintain current behavior, pass use_reentrant=True. It is recommended that you use use_reentrant=False. Refer to docs for more details on the differences between the two variants.\n",
      "  warnings.warn(\n",
      " 28%|██▊       | 36/128 [00:22<01:01,  1.49it/s]/home/samuel/PycharmProjects/TabPFN/venv/lib/python3.11/site-packages/torch/utils/checkpoint.py:460: UserWarning: torch.utils.checkpoint: please pass in use_reentrant=True or use_reentrant=False explicitly. The default value of use_reentrant will be updated to be False in the future. To maintain current behavior, pass use_reentrant=True. It is recommended that you use use_reentrant=False. Refer to docs for more details on the differences between the two variants.\n",
      "  warnings.warn(\n",
      " 29%|██▉       | 37/128 [00:23<00:58,  1.56it/s]/home/samuel/PycharmProjects/TabPFN/venv/lib/python3.11/site-packages/torch/utils/checkpoint.py:460: UserWarning: torch.utils.checkpoint: please pass in use_reentrant=True or use_reentrant=False explicitly. The default value of use_reentrant will be updated to be False in the future. To maintain current behavior, pass use_reentrant=True. It is recommended that you use use_reentrant=False. Refer to docs for more details on the differences between the two variants.\n",
      "  warnings.warn(\n",
      " 30%|██▉       | 38/128 [00:24<00:59,  1.52it/s]/home/samuel/PycharmProjects/TabPFN/venv/lib/python3.11/site-packages/torch/utils/checkpoint.py:460: UserWarning: torch.utils.checkpoint: please pass in use_reentrant=True or use_reentrant=False explicitly. The default value of use_reentrant will be updated to be False in the future. To maintain current behavior, pass use_reentrant=True. It is recommended that you use use_reentrant=False. Refer to docs for more details on the differences between the two variants.\n",
      "  warnings.warn(\n",
      " 30%|███       | 39/128 [00:24<00:59,  1.49it/s]/home/samuel/PycharmProjects/TabPFN/venv/lib/python3.11/site-packages/torch/utils/checkpoint.py:460: UserWarning: torch.utils.checkpoint: please pass in use_reentrant=True or use_reentrant=False explicitly. The default value of use_reentrant will be updated to be False in the future. To maintain current behavior, pass use_reentrant=True. It is recommended that you use use_reentrant=False. Refer to docs for more details on the differences between the two variants.\n",
      "  warnings.warn(\n",
      " 31%|███▏      | 40/128 [00:25<00:59,  1.47it/s]/home/samuel/PycharmProjects/TabPFN/venv/lib/python3.11/site-packages/torch/utils/checkpoint.py:460: UserWarning: torch.utils.checkpoint: please pass in use_reentrant=True or use_reentrant=False explicitly. The default value of use_reentrant will be updated to be False in the future. To maintain current behavior, pass use_reentrant=True. It is recommended that you use use_reentrant=False. Refer to docs for more details on the differences between the two variants.\n",
      "  warnings.warn(\n",
      " 32%|███▏      | 41/128 [00:26<00:56,  1.54it/s]/home/samuel/PycharmProjects/TabPFN/venv/lib/python3.11/site-packages/torch/utils/checkpoint.py:460: UserWarning: torch.utils.checkpoint: please pass in use_reentrant=True or use_reentrant=False explicitly. The default value of use_reentrant will be updated to be False in the future. To maintain current behavior, pass use_reentrant=True. It is recommended that you use use_reentrant=False. Refer to docs for more details on the differences between the two variants.\n",
      "  warnings.warn(\n",
      " 33%|███▎      | 42/128 [00:26<00:53,  1.61it/s]/home/samuel/PycharmProjects/TabPFN/venv/lib/python3.11/site-packages/torch/utils/checkpoint.py:460: UserWarning: torch.utils.checkpoint: please pass in use_reentrant=True or use_reentrant=False explicitly. The default value of use_reentrant will be updated to be False in the future. To maintain current behavior, pass use_reentrant=True. It is recommended that you use use_reentrant=False. Refer to docs for more details on the differences between the two variants.\n",
      "  warnings.warn(\n",
      " 34%|███▎      | 43/128 [00:27<00:56,  1.50it/s]/home/samuel/PycharmProjects/TabPFN/venv/lib/python3.11/site-packages/torch/utils/checkpoint.py:460: UserWarning: torch.utils.checkpoint: please pass in use_reentrant=True or use_reentrant=False explicitly. The default value of use_reentrant will be updated to be False in the future. To maintain current behavior, pass use_reentrant=True. It is recommended that you use use_reentrant=False. Refer to docs for more details on the differences between the two variants.\n",
      "  warnings.warn(\n",
      " 34%|███▍      | 44/128 [00:27<00:54,  1.55it/s]/home/samuel/PycharmProjects/TabPFN/venv/lib/python3.11/site-packages/torch/utils/checkpoint.py:460: UserWarning: torch.utils.checkpoint: please pass in use_reentrant=True or use_reentrant=False explicitly. The default value of use_reentrant will be updated to be False in the future. To maintain current behavior, pass use_reentrant=True. It is recommended that you use use_reentrant=False. Refer to docs for more details on the differences between the two variants.\n",
      "  warnings.warn(\n",
      " 35%|███▌      | 45/128 [00:28<00:55,  1.50it/s]/home/samuel/PycharmProjects/TabPFN/venv/lib/python3.11/site-packages/torch/utils/checkpoint.py:460: UserWarning: torch.utils.checkpoint: please pass in use_reentrant=True or use_reentrant=False explicitly. The default value of use_reentrant will be updated to be False in the future. To maintain current behavior, pass use_reentrant=True. It is recommended that you use use_reentrant=False. Refer to docs for more details on the differences between the two variants.\n",
      "  warnings.warn(\n",
      " 36%|███▌      | 46/128 [00:29<00:53,  1.53it/s]/home/samuel/PycharmProjects/TabPFN/venv/lib/python3.11/site-packages/torch/utils/checkpoint.py:460: UserWarning: torch.utils.checkpoint: please pass in use_reentrant=True or use_reentrant=False explicitly. The default value of use_reentrant will be updated to be False in the future. To maintain current behavior, pass use_reentrant=True. It is recommended that you use use_reentrant=False. Refer to docs for more details on the differences between the two variants.\n",
      "  warnings.warn(\n",
      " 37%|███▋      | 47/128 [00:30<00:54,  1.48it/s]/home/samuel/PycharmProjects/TabPFN/venv/lib/python3.11/site-packages/torch/utils/checkpoint.py:460: UserWarning: torch.utils.checkpoint: please pass in use_reentrant=True or use_reentrant=False explicitly. The default value of use_reentrant will be updated to be False in the future. To maintain current behavior, pass use_reentrant=True. It is recommended that you use use_reentrant=False. Refer to docs for more details on the differences between the two variants.\n",
      "  warnings.warn(\n",
      " 38%|███▊      | 48/128 [00:30<00:50,  1.58it/s]/home/samuel/PycharmProjects/TabPFN/venv/lib/python3.11/site-packages/torch/utils/checkpoint.py:460: UserWarning: torch.utils.checkpoint: please pass in use_reentrant=True or use_reentrant=False explicitly. The default value of use_reentrant will be updated to be False in the future. To maintain current behavior, pass use_reentrant=True. It is recommended that you use use_reentrant=False. Refer to docs for more details on the differences between the two variants.\n",
      "  warnings.warn(\n",
      " 38%|███▊      | 49/128 [00:31<00:51,  1.53it/s]/home/samuel/PycharmProjects/TabPFN/venv/lib/python3.11/site-packages/torch/utils/checkpoint.py:460: UserWarning: torch.utils.checkpoint: please pass in use_reentrant=True or use_reentrant=False explicitly. The default value of use_reentrant will be updated to be False in the future. To maintain current behavior, pass use_reentrant=True. It is recommended that you use use_reentrant=False. Refer to docs for more details on the differences between the two variants.\n",
      "  warnings.warn(\n",
      " 39%|███▉      | 50/128 [00:31<00:50,  1.55it/s]/home/samuel/PycharmProjects/TabPFN/venv/lib/python3.11/site-packages/torch/utils/checkpoint.py:460: UserWarning: torch.utils.checkpoint: please pass in use_reentrant=True or use_reentrant=False explicitly. The default value of use_reentrant will be updated to be False in the future. To maintain current behavior, pass use_reentrant=True. It is recommended that you use use_reentrant=False. Refer to docs for more details on the differences between the two variants.\n",
      "  warnings.warn(\n",
      " 40%|███▉      | 51/128 [00:32<00:51,  1.51it/s]/home/samuel/PycharmProjects/TabPFN/venv/lib/python3.11/site-packages/torch/utils/checkpoint.py:460: UserWarning: torch.utils.checkpoint: please pass in use_reentrant=True or use_reentrant=False explicitly. The default value of use_reentrant will be updated to be False in the future. To maintain current behavior, pass use_reentrant=True. It is recommended that you use use_reentrant=False. Refer to docs for more details on the differences between the two variants.\n",
      "  warnings.warn(\n",
      " 41%|████      | 52/128 [00:33<00:49,  1.54it/s]/home/samuel/PycharmProjects/TabPFN/venv/lib/python3.11/site-packages/torch/utils/checkpoint.py:460: UserWarning: torch.utils.checkpoint: please pass in use_reentrant=True or use_reentrant=False explicitly. The default value of use_reentrant will be updated to be False in the future. To maintain current behavior, pass use_reentrant=True. It is recommended that you use use_reentrant=False. Refer to docs for more details on the differences between the two variants.\n",
      "  warnings.warn(\n",
      " 41%|████▏     | 53/128 [00:33<00:47,  1.56it/s]/home/samuel/PycharmProjects/TabPFN/venv/lib/python3.11/site-packages/torch/utils/checkpoint.py:460: UserWarning: torch.utils.checkpoint: please pass in use_reentrant=True or use_reentrant=False explicitly. The default value of use_reentrant will be updated to be False in the future. To maintain current behavior, pass use_reentrant=True. It is recommended that you use use_reentrant=False. Refer to docs for more details on the differences between the two variants.\n",
      "  warnings.warn(\n",
      " 42%|████▏     | 54/128 [00:34<00:48,  1.53it/s]/home/samuel/PycharmProjects/TabPFN/venv/lib/python3.11/site-packages/torch/utils/checkpoint.py:460: UserWarning: torch.utils.checkpoint: please pass in use_reentrant=True or use_reentrant=False explicitly. The default value of use_reentrant will be updated to be False in the future. To maintain current behavior, pass use_reentrant=True. It is recommended that you use use_reentrant=False. Refer to docs for more details on the differences between the two variants.\n",
      "  warnings.warn(\n",
      " 44%|████▍     | 56/128 [00:35<00:35,  2.04it/s]/home/samuel/PycharmProjects/TabPFN/venv/lib/python3.11/site-packages/torch/utils/checkpoint.py:460: UserWarning: torch.utils.checkpoint: please pass in use_reentrant=True or use_reentrant=False explicitly. The default value of use_reentrant will be updated to be False in the future. To maintain current behavior, pass use_reentrant=True. It is recommended that you use use_reentrant=False. Refer to docs for more details on the differences between the two variants.\n",
      "  warnings.warn(\n",
      " 45%|████▍     | 57/128 [00:35<00:36,  1.94it/s]/home/samuel/PycharmProjects/TabPFN/venv/lib/python3.11/site-packages/torch/utils/checkpoint.py:460: UserWarning: torch.utils.checkpoint: please pass in use_reentrant=True or use_reentrant=False explicitly. The default value of use_reentrant will be updated to be False in the future. To maintain current behavior, pass use_reentrant=True. It is recommended that you use use_reentrant=False. Refer to docs for more details on the differences between the two variants.\n",
      "  warnings.warn(\n",
      " 45%|████▌     | 58/128 [00:36<00:40,  1.75it/s]/home/samuel/PycharmProjects/TabPFN/venv/lib/python3.11/site-packages/torch/utils/checkpoint.py:460: UserWarning: torch.utils.checkpoint: please pass in use_reentrant=True or use_reentrant=False explicitly. The default value of use_reentrant will be updated to be False in the future. To maintain current behavior, pass use_reentrant=True. It is recommended that you use use_reentrant=False. Refer to docs for more details on the differences between the two variants.\n",
      "  warnings.warn(\n",
      " 46%|████▌     | 59/128 [00:37<00:42,  1.62it/s]/home/samuel/PycharmProjects/TabPFN/venv/lib/python3.11/site-packages/torch/utils/checkpoint.py:460: UserWarning: torch.utils.checkpoint: please pass in use_reentrant=True or use_reentrant=False explicitly. The default value of use_reentrant will be updated to be False in the future. To maintain current behavior, pass use_reentrant=True. It is recommended that you use use_reentrant=False. Refer to docs for more details on the differences between the two variants.\n",
      "  warnings.warn(\n",
      " 47%|████▋     | 60/128 [00:37<00:45,  1.50it/s]/home/samuel/PycharmProjects/TabPFN/venv/lib/python3.11/site-packages/torch/utils/checkpoint.py:460: UserWarning: torch.utils.checkpoint: please pass in use_reentrant=True or use_reentrant=False explicitly. The default value of use_reentrant will be updated to be False in the future. To maintain current behavior, pass use_reentrant=True. It is recommended that you use use_reentrant=False. Refer to docs for more details on the differences between the two variants.\n",
      "  warnings.warn(\n",
      " 48%|████▊     | 61/128 [00:38<00:42,  1.57it/s]/home/samuel/PycharmProjects/TabPFN/venv/lib/python3.11/site-packages/torch/utils/checkpoint.py:460: UserWarning: torch.utils.checkpoint: please pass in use_reentrant=True or use_reentrant=False explicitly. The default value of use_reentrant will be updated to be False in the future. To maintain current behavior, pass use_reentrant=True. It is recommended that you use use_reentrant=False. Refer to docs for more details on the differences between the two variants.\n",
      "  warnings.warn(\n",
      " 48%|████▊     | 62/128 [00:39<00:40,  1.64it/s]/home/samuel/PycharmProjects/TabPFN/venv/lib/python3.11/site-packages/torch/utils/checkpoint.py:460: UserWarning: torch.utils.checkpoint: please pass in use_reentrant=True or use_reentrant=False explicitly. The default value of use_reentrant will be updated to be False in the future. To maintain current behavior, pass use_reentrant=True. It is recommended that you use use_reentrant=False. Refer to docs for more details on the differences between the two variants.\n",
      "  warnings.warn(\n",
      " 49%|████▉     | 63/128 [00:39<00:39,  1.66it/s]/home/samuel/PycharmProjects/TabPFN/venv/lib/python3.11/site-packages/torch/utils/checkpoint.py:460: UserWarning: torch.utils.checkpoint: please pass in use_reentrant=True or use_reentrant=False explicitly. The default value of use_reentrant will be updated to be False in the future. To maintain current behavior, pass use_reentrant=True. It is recommended that you use use_reentrant=False. Refer to docs for more details on the differences between the two variants.\n",
      "  warnings.warn(\n",
      " 50%|█████     | 64/128 [00:40<00:38,  1.68it/s]/home/samuel/PycharmProjects/TabPFN/venv/lib/python3.11/site-packages/torch/utils/checkpoint.py:460: UserWarning: torch.utils.checkpoint: please pass in use_reentrant=True or use_reentrant=False explicitly. The default value of use_reentrant will be updated to be False in the future. To maintain current behavior, pass use_reentrant=True. It is recommended that you use use_reentrant=False. Refer to docs for more details on the differences between the two variants.\n",
      "  warnings.warn(\n",
      " 51%|█████     | 65/128 [00:40<00:37,  1.68it/s]/home/samuel/PycharmProjects/TabPFN/venv/lib/python3.11/site-packages/torch/utils/checkpoint.py:460: UserWarning: torch.utils.checkpoint: please pass in use_reentrant=True or use_reentrant=False explicitly. The default value of use_reentrant will be updated to be False in the future. To maintain current behavior, pass use_reentrant=True. It is recommended that you use use_reentrant=False. Refer to docs for more details on the differences between the two variants.\n",
      "  warnings.warn(\n",
      " 52%|█████▏    | 66/128 [00:41<00:37,  1.68it/s]/home/samuel/PycharmProjects/TabPFN/venv/lib/python3.11/site-packages/torch/utils/checkpoint.py:460: UserWarning: torch.utils.checkpoint: please pass in use_reentrant=True or use_reentrant=False explicitly. The default value of use_reentrant will be updated to be False in the future. To maintain current behavior, pass use_reentrant=True. It is recommended that you use use_reentrant=False. Refer to docs for more details on the differences between the two variants.\n",
      "  warnings.warn(\n",
      " 52%|█████▏    | 67/128 [00:41<00:35,  1.74it/s]/home/samuel/PycharmProjects/TabPFN/venv/lib/python3.11/site-packages/torch/utils/checkpoint.py:460: UserWarning: torch.utils.checkpoint: please pass in use_reentrant=True or use_reentrant=False explicitly. The default value of use_reentrant will be updated to be False in the future. To maintain current behavior, pass use_reentrant=True. It is recommended that you use use_reentrant=False. Refer to docs for more details on the differences between the two variants.\n",
      "  warnings.warn(\n",
      " 53%|█████▎    | 68/128 [00:42<00:35,  1.68it/s]/home/samuel/PycharmProjects/TabPFN/venv/lib/python3.11/site-packages/torch/utils/checkpoint.py:460: UserWarning: torch.utils.checkpoint: please pass in use_reentrant=True or use_reentrant=False explicitly. The default value of use_reentrant will be updated to be False in the future. To maintain current behavior, pass use_reentrant=True. It is recommended that you use use_reentrant=False. Refer to docs for more details on the differences between the two variants.\n",
      "  warnings.warn(\n",
      " 54%|█████▍    | 69/128 [00:43<00:35,  1.68it/s]/home/samuel/PycharmProjects/TabPFN/venv/lib/python3.11/site-packages/torch/utils/checkpoint.py:460: UserWarning: torch.utils.checkpoint: please pass in use_reentrant=True or use_reentrant=False explicitly. The default value of use_reentrant will be updated to be False in the future. To maintain current behavior, pass use_reentrant=True. It is recommended that you use use_reentrant=False. Refer to docs for more details on the differences between the two variants.\n",
      "  warnings.warn(\n",
      " 55%|█████▍    | 70/128 [00:43<00:34,  1.68it/s]/home/samuel/PycharmProjects/TabPFN/venv/lib/python3.11/site-packages/torch/utils/checkpoint.py:460: UserWarning: torch.utils.checkpoint: please pass in use_reentrant=True or use_reentrant=False explicitly. The default value of use_reentrant will be updated to be False in the future. To maintain current behavior, pass use_reentrant=True. It is recommended that you use use_reentrant=False. Refer to docs for more details on the differences between the two variants.\n",
      "  warnings.warn(\n",
      " 55%|█████▌    | 71/128 [00:44<00:35,  1.62it/s]/home/samuel/PycharmProjects/TabPFN/venv/lib/python3.11/site-packages/torch/utils/checkpoint.py:460: UserWarning: torch.utils.checkpoint: please pass in use_reentrant=True or use_reentrant=False explicitly. The default value of use_reentrant will be updated to be False in the future. To maintain current behavior, pass use_reentrant=True. It is recommended that you use use_reentrant=False. Refer to docs for more details on the differences between the two variants.\n",
      "  warnings.warn(\n",
      " 56%|█████▋    | 72/128 [00:45<00:37,  1.51it/s]/home/samuel/PycharmProjects/TabPFN/venv/lib/python3.11/site-packages/torch/utils/checkpoint.py:460: UserWarning: torch.utils.checkpoint: please pass in use_reentrant=True or use_reentrant=False explicitly. The default value of use_reentrant will be updated to be False in the future. To maintain current behavior, pass use_reentrant=True. It is recommended that you use use_reentrant=False. Refer to docs for more details on the differences between the two variants.\n",
      "  warnings.warn(\n",
      " 57%|█████▋    | 73/128 [00:45<00:35,  1.54it/s]/home/samuel/PycharmProjects/TabPFN/venv/lib/python3.11/site-packages/torch/utils/checkpoint.py:460: UserWarning: torch.utils.checkpoint: please pass in use_reentrant=True or use_reentrant=False explicitly. The default value of use_reentrant will be updated to be False in the future. To maintain current behavior, pass use_reentrant=True. It is recommended that you use use_reentrant=False. Refer to docs for more details on the differences between the two variants.\n",
      "  warnings.warn(\n",
      " 58%|█████▊    | 74/128 [00:46<00:34,  1.58it/s]/home/samuel/PycharmProjects/TabPFN/venv/lib/python3.11/site-packages/torch/utils/checkpoint.py:460: UserWarning: torch.utils.checkpoint: please pass in use_reentrant=True or use_reentrant=False explicitly. The default value of use_reentrant will be updated to be False in the future. To maintain current behavior, pass use_reentrant=True. It is recommended that you use use_reentrant=False. Refer to docs for more details on the differences between the two variants.\n",
      "  warnings.warn(\n",
      " 59%|█████▊    | 75/128 [00:47<00:33,  1.60it/s]/home/samuel/PycharmProjects/TabPFN/venv/lib/python3.11/site-packages/torch/utils/checkpoint.py:460: UserWarning: torch.utils.checkpoint: please pass in use_reentrant=True or use_reentrant=False explicitly. The default value of use_reentrant will be updated to be False in the future. To maintain current behavior, pass use_reentrant=True. It is recommended that you use use_reentrant=False. Refer to docs for more details on the differences between the two variants.\n",
      "  warnings.warn(\n",
      " 59%|█████▉    | 76/128 [00:47<00:35,  1.48it/s]/home/samuel/PycharmProjects/TabPFN/venv/lib/python3.11/site-packages/torch/utils/checkpoint.py:460: UserWarning: torch.utils.checkpoint: please pass in use_reentrant=True or use_reentrant=False explicitly. The default value of use_reentrant will be updated to be False in the future. To maintain current behavior, pass use_reentrant=True. It is recommended that you use use_reentrant=False. Refer to docs for more details on the differences between the two variants.\n",
      "  warnings.warn(\n",
      " 60%|██████    | 77/128 [00:48<00:33,  1.51it/s]/home/samuel/PycharmProjects/TabPFN/venv/lib/python3.11/site-packages/torch/utils/checkpoint.py:460: UserWarning: torch.utils.checkpoint: please pass in use_reentrant=True or use_reentrant=False explicitly. The default value of use_reentrant will be updated to be False in the future. To maintain current behavior, pass use_reentrant=True. It is recommended that you use use_reentrant=False. Refer to docs for more details on the differences between the two variants.\n",
      "  warnings.warn(\n",
      " 61%|██████    | 78/128 [00:49<00:32,  1.56it/s]/home/samuel/PycharmProjects/TabPFN/venv/lib/python3.11/site-packages/torch/utils/checkpoint.py:460: UserWarning: torch.utils.checkpoint: please pass in use_reentrant=True or use_reentrant=False explicitly. The default value of use_reentrant will be updated to be False in the future. To maintain current behavior, pass use_reentrant=True. It is recommended that you use use_reentrant=False. Refer to docs for more details on the differences between the two variants.\n",
      "  warnings.warn(\n",
      " 62%|██████▏   | 79/128 [00:49<00:31,  1.58it/s]/home/samuel/PycharmProjects/TabPFN/venv/lib/python3.11/site-packages/torch/utils/checkpoint.py:460: UserWarning: torch.utils.checkpoint: please pass in use_reentrant=True or use_reentrant=False explicitly. The default value of use_reentrant will be updated to be False in the future. To maintain current behavior, pass use_reentrant=True. It is recommended that you use use_reentrant=False. Refer to docs for more details on the differences between the two variants.\n",
      "  warnings.warn(\n",
      " 62%|██████▎   | 80/128 [00:50<00:30,  1.59it/s]/home/samuel/PycharmProjects/TabPFN/venv/lib/python3.11/site-packages/torch/utils/checkpoint.py:460: UserWarning: torch.utils.checkpoint: please pass in use_reentrant=True or use_reentrant=False explicitly. The default value of use_reentrant will be updated to be False in the future. To maintain current behavior, pass use_reentrant=True. It is recommended that you use use_reentrant=False. Refer to docs for more details on the differences between the two variants.\n",
      "  warnings.warn(\n",
      " 63%|██████▎   | 81/128 [00:50<00:30,  1.54it/s]/home/samuel/PycharmProjects/TabPFN/venv/lib/python3.11/site-packages/torch/utils/checkpoint.py:460: UserWarning: torch.utils.checkpoint: please pass in use_reentrant=True or use_reentrant=False explicitly. The default value of use_reentrant will be updated to be False in the future. To maintain current behavior, pass use_reentrant=True. It is recommended that you use use_reentrant=False. Refer to docs for more details on the differences between the two variants.\n",
      "  warnings.warn(\n",
      " 64%|██████▍   | 82/128 [00:51<00:28,  1.60it/s]/home/samuel/PycharmProjects/TabPFN/venv/lib/python3.11/site-packages/torch/utils/checkpoint.py:460: UserWarning: torch.utils.checkpoint: please pass in use_reentrant=True or use_reentrant=False explicitly. The default value of use_reentrant will be updated to be False in the future. To maintain current behavior, pass use_reentrant=True. It is recommended that you use use_reentrant=False. Refer to docs for more details on the differences between the two variants.\n",
      "  warnings.warn(\n",
      " 65%|██████▍   | 83/128 [00:52<00:28,  1.57it/s]/home/samuel/PycharmProjects/TabPFN/venv/lib/python3.11/site-packages/torch/utils/checkpoint.py:460: UserWarning: torch.utils.checkpoint: please pass in use_reentrant=True or use_reentrant=False explicitly. The default value of use_reentrant will be updated to be False in the future. To maintain current behavior, pass use_reentrant=True. It is recommended that you use use_reentrant=False. Refer to docs for more details on the differences between the two variants.\n",
      "  warnings.warn(\n",
      " 66%|██████▌   | 84/128 [00:52<00:26,  1.65it/s]/home/samuel/PycharmProjects/TabPFN/venv/lib/python3.11/site-packages/torch/utils/checkpoint.py:460: UserWarning: torch.utils.checkpoint: please pass in use_reentrant=True or use_reentrant=False explicitly. The default value of use_reentrant will be updated to be False in the future. To maintain current behavior, pass use_reentrant=True. It is recommended that you use use_reentrant=False. Refer to docs for more details on the differences between the two variants.\n",
      "  warnings.warn(\n",
      " 66%|██████▋   | 85/128 [00:53<00:26,  1.63it/s]/home/samuel/PycharmProjects/TabPFN/venv/lib/python3.11/site-packages/torch/utils/checkpoint.py:460: UserWarning: torch.utils.checkpoint: please pass in use_reentrant=True or use_reentrant=False explicitly. The default value of use_reentrant will be updated to be False in the future. To maintain current behavior, pass use_reentrant=True. It is recommended that you use use_reentrant=False. Refer to docs for more details on the differences between the two variants.\n",
      "  warnings.warn(\n",
      " 67%|██████▋   | 86/128 [00:54<00:27,  1.50it/s]/home/samuel/PycharmProjects/TabPFN/venv/lib/python3.11/site-packages/torch/utils/checkpoint.py:460: UserWarning: torch.utils.checkpoint: please pass in use_reentrant=True or use_reentrant=False explicitly. The default value of use_reentrant will be updated to be False in the future. To maintain current behavior, pass use_reentrant=True. It is recommended that you use use_reentrant=False. Refer to docs for more details on the differences between the two variants.\n",
      "  warnings.warn(\n",
      " 68%|██████▊   | 87/128 [00:54<00:25,  1.61it/s]/home/samuel/PycharmProjects/TabPFN/venv/lib/python3.11/site-packages/torch/utils/checkpoint.py:460: UserWarning: torch.utils.checkpoint: please pass in use_reentrant=True or use_reentrant=False explicitly. The default value of use_reentrant will be updated to be False in the future. To maintain current behavior, pass use_reentrant=True. It is recommended that you use use_reentrant=False. Refer to docs for more details on the differences between the two variants.\n",
      "  warnings.warn(\n",
      " 69%|██████▉   | 88/128 [00:55<00:23,  1.67it/s]/home/samuel/PycharmProjects/TabPFN/venv/lib/python3.11/site-packages/torch/utils/checkpoint.py:460: UserWarning: torch.utils.checkpoint: please pass in use_reentrant=True or use_reentrant=False explicitly. The default value of use_reentrant will be updated to be False in the future. To maintain current behavior, pass use_reentrant=True. It is recommended that you use use_reentrant=False. Refer to docs for more details on the differences between the two variants.\n",
      "  warnings.warn(\n",
      " 70%|██████▉   | 89/128 [00:56<00:25,  1.55it/s]/home/samuel/PycharmProjects/TabPFN/venv/lib/python3.11/site-packages/torch/utils/checkpoint.py:460: UserWarning: torch.utils.checkpoint: please pass in use_reentrant=True or use_reentrant=False explicitly. The default value of use_reentrant will be updated to be False in the future. To maintain current behavior, pass use_reentrant=True. It is recommended that you use use_reentrant=False. Refer to docs for more details on the differences between the two variants.\n",
      "  warnings.warn(\n",
      " 70%|███████   | 90/128 [00:56<00:24,  1.53it/s]/home/samuel/PycharmProjects/TabPFN/venv/lib/python3.11/site-packages/torch/utils/checkpoint.py:460: UserWarning: torch.utils.checkpoint: please pass in use_reentrant=True or use_reentrant=False explicitly. The default value of use_reentrant will be updated to be False in the future. To maintain current behavior, pass use_reentrant=True. It is recommended that you use use_reentrant=False. Refer to docs for more details on the differences between the two variants.\n",
      "  warnings.warn(\n",
      " 71%|███████   | 91/128 [00:57<00:25,  1.47it/s]/home/samuel/PycharmProjects/TabPFN/venv/lib/python3.11/site-packages/torch/utils/checkpoint.py:460: UserWarning: torch.utils.checkpoint: please pass in use_reentrant=True or use_reentrant=False explicitly. The default value of use_reentrant will be updated to be False in the future. To maintain current behavior, pass use_reentrant=True. It is recommended that you use use_reentrant=False. Refer to docs for more details on the differences between the two variants.\n",
      "  warnings.warn(\n",
      " 72%|███████▏  | 92/128 [00:58<00:24,  1.48it/s]/home/samuel/PycharmProjects/TabPFN/venv/lib/python3.11/site-packages/torch/utils/checkpoint.py:460: UserWarning: torch.utils.checkpoint: please pass in use_reentrant=True or use_reentrant=False explicitly. The default value of use_reentrant will be updated to be False in the future. To maintain current behavior, pass use_reentrant=True. It is recommended that you use use_reentrant=False. Refer to docs for more details on the differences between the two variants.\n",
      "  warnings.warn(\n",
      " 73%|███████▎  | 93/128 [00:58<00:24,  1.40it/s]/home/samuel/PycharmProjects/TabPFN/venv/lib/python3.11/site-packages/torch/utils/checkpoint.py:460: UserWarning: torch.utils.checkpoint: please pass in use_reentrant=True or use_reentrant=False explicitly. The default value of use_reentrant will be updated to be False in the future. To maintain current behavior, pass use_reentrant=True. It is recommended that you use use_reentrant=False. Refer to docs for more details on the differences between the two variants.\n",
      "  warnings.warn(\n",
      " 73%|███████▎  | 94/128 [00:59<00:22,  1.48it/s]/home/samuel/PycharmProjects/TabPFN/venv/lib/python3.11/site-packages/torch/utils/checkpoint.py:460: UserWarning: torch.utils.checkpoint: please pass in use_reentrant=True or use_reentrant=False explicitly. The default value of use_reentrant will be updated to be False in the future. To maintain current behavior, pass use_reentrant=True. It is recommended that you use use_reentrant=False. Refer to docs for more details on the differences between the two variants.\n",
      "  warnings.warn(\n",
      " 74%|███████▍  | 95/128 [01:00<00:21,  1.55it/s]/home/samuel/PycharmProjects/TabPFN/venv/lib/python3.11/site-packages/torch/utils/checkpoint.py:460: UserWarning: torch.utils.checkpoint: please pass in use_reentrant=True or use_reentrant=False explicitly. The default value of use_reentrant will be updated to be False in the future. To maintain current behavior, pass use_reentrant=True. It is recommended that you use use_reentrant=False. Refer to docs for more details on the differences between the two variants.\n",
      "  warnings.warn(\n",
      " 75%|███████▌  | 96/128 [01:00<00:20,  1.54it/s]/home/samuel/PycharmProjects/TabPFN/venv/lib/python3.11/site-packages/torch/utils/checkpoint.py:460: UserWarning: torch.utils.checkpoint: please pass in use_reentrant=True or use_reentrant=False explicitly. The default value of use_reentrant will be updated to be False in the future. To maintain current behavior, pass use_reentrant=True. It is recommended that you use use_reentrant=False. Refer to docs for more details on the differences between the two variants.\n",
      "  warnings.warn(\n",
      " 76%|███████▌  | 97/128 [01:01<00:20,  1.50it/s]/home/samuel/PycharmProjects/TabPFN/venv/lib/python3.11/site-packages/torch/utils/checkpoint.py:460: UserWarning: torch.utils.checkpoint: please pass in use_reentrant=True or use_reentrant=False explicitly. The default value of use_reentrant will be updated to be False in the future. To maintain current behavior, pass use_reentrant=True. It is recommended that you use use_reentrant=False. Refer to docs for more details on the differences between the two variants.\n",
      "  warnings.warn(\n",
      " 77%|███████▋  | 98/128 [01:02<00:19,  1.50it/s]/home/samuel/PycharmProjects/TabPFN/venv/lib/python3.11/site-packages/torch/utils/checkpoint.py:460: UserWarning: torch.utils.checkpoint: please pass in use_reentrant=True or use_reentrant=False explicitly. The default value of use_reentrant will be updated to be False in the future. To maintain current behavior, pass use_reentrant=True. It is recommended that you use use_reentrant=False. Refer to docs for more details on the differences between the two variants.\n",
      "  warnings.warn(\n",
      " 77%|███████▋  | 99/128 [01:02<00:18,  1.54it/s]/home/samuel/PycharmProjects/TabPFN/venv/lib/python3.11/site-packages/torch/utils/checkpoint.py:460: UserWarning: torch.utils.checkpoint: please pass in use_reentrant=True or use_reentrant=False explicitly. The default value of use_reentrant will be updated to be False in the future. To maintain current behavior, pass use_reentrant=True. It is recommended that you use use_reentrant=False. Refer to docs for more details on the differences between the two variants.\n",
      "  warnings.warn(\n",
      " 78%|███████▊  | 100/128 [01:03<00:17,  1.62it/s]/home/samuel/PycharmProjects/TabPFN/venv/lib/python3.11/site-packages/torch/utils/checkpoint.py:460: UserWarning: torch.utils.checkpoint: please pass in use_reentrant=True or use_reentrant=False explicitly. The default value of use_reentrant will be updated to be False in the future. To maintain current behavior, pass use_reentrant=True. It is recommended that you use use_reentrant=False. Refer to docs for more details on the differences between the two variants.\n",
      "  warnings.warn(\n",
      " 79%|███████▉  | 101/128 [01:03<00:17,  1.54it/s]/home/samuel/PycharmProjects/TabPFN/venv/lib/python3.11/site-packages/torch/utils/checkpoint.py:460: UserWarning: torch.utils.checkpoint: please pass in use_reentrant=True or use_reentrant=False explicitly. The default value of use_reentrant will be updated to be False in the future. To maintain current behavior, pass use_reentrant=True. It is recommended that you use use_reentrant=False. Refer to docs for more details on the differences between the two variants.\n",
      "  warnings.warn(\n",
      " 80%|███████▉  | 102/128 [01:04<00:16,  1.56it/s]/home/samuel/PycharmProjects/TabPFN/venv/lib/python3.11/site-packages/torch/utils/checkpoint.py:460: UserWarning: torch.utils.checkpoint: please pass in use_reentrant=True or use_reentrant=False explicitly. The default value of use_reentrant will be updated to be False in the future. To maintain current behavior, pass use_reentrant=True. It is recommended that you use use_reentrant=False. Refer to docs for more details on the differences between the two variants.\n",
      "  warnings.warn(\n",
      " 80%|████████  | 103/128 [01:05<00:16,  1.56it/s]/home/samuel/PycharmProjects/TabPFN/venv/lib/python3.11/site-packages/torch/utils/checkpoint.py:460: UserWarning: torch.utils.checkpoint: please pass in use_reentrant=True or use_reentrant=False explicitly. The default value of use_reentrant will be updated to be False in the future. To maintain current behavior, pass use_reentrant=True. It is recommended that you use use_reentrant=False. Refer to docs for more details on the differences between the two variants.\n",
      "  warnings.warn(\n",
      " 81%|████████▏ | 104/128 [01:05<00:15,  1.60it/s]/home/samuel/PycharmProjects/TabPFN/venv/lib/python3.11/site-packages/torch/utils/checkpoint.py:460: UserWarning: torch.utils.checkpoint: please pass in use_reentrant=True or use_reentrant=False explicitly. The default value of use_reentrant will be updated to be False in the future. To maintain current behavior, pass use_reentrant=True. It is recommended that you use use_reentrant=False. Refer to docs for more details on the differences between the two variants.\n",
      "  warnings.warn(\n",
      " 82%|████████▏ | 105/128 [01:06<00:15,  1.50it/s]/home/samuel/PycharmProjects/TabPFN/venv/lib/python3.11/site-packages/torch/utils/checkpoint.py:460: UserWarning: torch.utils.checkpoint: please pass in use_reentrant=True or use_reentrant=False explicitly. The default value of use_reentrant will be updated to be False in the future. To maintain current behavior, pass use_reentrant=True. It is recommended that you use use_reentrant=False. Refer to docs for more details on the differences between the two variants.\n",
      "  warnings.warn(\n",
      " 83%|████████▎ | 106/128 [01:07<00:15,  1.44it/s]/home/samuel/PycharmProjects/TabPFN/venv/lib/python3.11/site-packages/torch/utils/checkpoint.py:460: UserWarning: torch.utils.checkpoint: please pass in use_reentrant=True or use_reentrant=False explicitly. The default value of use_reentrant will be updated to be False in the future. To maintain current behavior, pass use_reentrant=True. It is recommended that you use use_reentrant=False. Refer to docs for more details on the differences between the two variants.\n",
      "  warnings.warn(\n",
      " 84%|████████▎ | 107/128 [01:07<00:13,  1.50it/s]/home/samuel/PycharmProjects/TabPFN/venv/lib/python3.11/site-packages/torch/utils/checkpoint.py:460: UserWarning: torch.utils.checkpoint: please pass in use_reentrant=True or use_reentrant=False explicitly. The default value of use_reentrant will be updated to be False in the future. To maintain current behavior, pass use_reentrant=True. It is recommended that you use use_reentrant=False. Refer to docs for more details on the differences between the two variants.\n",
      "  warnings.warn(\n",
      " 84%|████████▍ | 108/128 [01:08<00:13,  1.49it/s]/home/samuel/PycharmProjects/TabPFN/venv/lib/python3.11/site-packages/torch/utils/checkpoint.py:460: UserWarning: torch.utils.checkpoint: please pass in use_reentrant=True or use_reentrant=False explicitly. The default value of use_reentrant will be updated to be False in the future. To maintain current behavior, pass use_reentrant=True. It is recommended that you use use_reentrant=False. Refer to docs for more details on the differences between the two variants.\n",
      "  warnings.warn(\n",
      " 85%|████████▌ | 109/128 [01:09<00:12,  1.56it/s]/home/samuel/PycharmProjects/TabPFN/venv/lib/python3.11/site-packages/torch/utils/checkpoint.py:460: UserWarning: torch.utils.checkpoint: please pass in use_reentrant=True or use_reentrant=False explicitly. The default value of use_reentrant will be updated to be False in the future. To maintain current behavior, pass use_reentrant=True. It is recommended that you use use_reentrant=False. Refer to docs for more details on the differences between the two variants.\n",
      "  warnings.warn(\n",
      " 86%|████████▌ | 110/128 [01:09<00:10,  1.65it/s]/home/samuel/PycharmProjects/TabPFN/venv/lib/python3.11/site-packages/torch/utils/checkpoint.py:460: UserWarning: torch.utils.checkpoint: please pass in use_reentrant=True or use_reentrant=False explicitly. The default value of use_reentrant will be updated to be False in the future. To maintain current behavior, pass use_reentrant=True. It is recommended that you use use_reentrant=False. Refer to docs for more details on the differences between the two variants.\n",
      "  warnings.warn(\n",
      " 87%|████████▋ | 111/128 [01:10<00:10,  1.68it/s]/home/samuel/PycharmProjects/TabPFN/venv/lib/python3.11/site-packages/torch/utils/checkpoint.py:460: UserWarning: torch.utils.checkpoint: please pass in use_reentrant=True or use_reentrant=False explicitly. The default value of use_reentrant will be updated to be False in the future. To maintain current behavior, pass use_reentrant=True. It is recommended that you use use_reentrant=False. Refer to docs for more details on the differences between the two variants.\n",
      "  warnings.warn(\n",
      " 88%|████████▊ | 112/128 [01:10<00:09,  1.66it/s]/home/samuel/PycharmProjects/TabPFN/venv/lib/python3.11/site-packages/torch/utils/checkpoint.py:460: UserWarning: torch.utils.checkpoint: please pass in use_reentrant=True or use_reentrant=False explicitly. The default value of use_reentrant will be updated to be False in the future. To maintain current behavior, pass use_reentrant=True. It is recommended that you use use_reentrant=False. Refer to docs for more details on the differences between the two variants.\n",
      "  warnings.warn(\n",
      " 88%|████████▊ | 113/128 [01:11<00:09,  1.59it/s]/home/samuel/PycharmProjects/TabPFN/venv/lib/python3.11/site-packages/torch/utils/checkpoint.py:460: UserWarning: torch.utils.checkpoint: please pass in use_reentrant=True or use_reentrant=False explicitly. The default value of use_reentrant will be updated to be False in the future. To maintain current behavior, pass use_reentrant=True. It is recommended that you use use_reentrant=False. Refer to docs for more details on the differences between the two variants.\n",
      "  warnings.warn(\n",
      " 89%|████████▉ | 114/128 [01:12<00:08,  1.57it/s]/home/samuel/PycharmProjects/TabPFN/venv/lib/python3.11/site-packages/torch/utils/checkpoint.py:460: UserWarning: torch.utils.checkpoint: please pass in use_reentrant=True or use_reentrant=False explicitly. The default value of use_reentrant will be updated to be False in the future. To maintain current behavior, pass use_reentrant=True. It is recommended that you use use_reentrant=False. Refer to docs for more details on the differences between the two variants.\n",
      "  warnings.warn(\n",
      " 90%|████████▉ | 115/128 [01:12<00:08,  1.51it/s]/home/samuel/PycharmProjects/TabPFN/venv/lib/python3.11/site-packages/torch/utils/checkpoint.py:460: UserWarning: torch.utils.checkpoint: please pass in use_reentrant=True or use_reentrant=False explicitly. The default value of use_reentrant will be updated to be False in the future. To maintain current behavior, pass use_reentrant=True. It is recommended that you use use_reentrant=False. Refer to docs for more details on the differences between the two variants.\n",
      "  warnings.warn(\n",
      " 91%|█████████ | 116/128 [01:13<00:07,  1.59it/s]/home/samuel/PycharmProjects/TabPFN/venv/lib/python3.11/site-packages/torch/utils/checkpoint.py:460: UserWarning: torch.utils.checkpoint: please pass in use_reentrant=True or use_reentrant=False explicitly. The default value of use_reentrant will be updated to be False in the future. To maintain current behavior, pass use_reentrant=True. It is recommended that you use use_reentrant=False. Refer to docs for more details on the differences between the two variants.\n",
      "  warnings.warn(\n",
      " 91%|█████████▏| 117/128 [01:14<00:07,  1.47it/s]/home/samuel/PycharmProjects/TabPFN/venv/lib/python3.11/site-packages/torch/utils/checkpoint.py:460: UserWarning: torch.utils.checkpoint: please pass in use_reentrant=True or use_reentrant=False explicitly. The default value of use_reentrant will be updated to be False in the future. To maintain current behavior, pass use_reentrant=True. It is recommended that you use use_reentrant=False. Refer to docs for more details on the differences between the two variants.\n",
      "  warnings.warn(\n",
      " 92%|█████████▏| 118/128 [01:14<00:06,  1.46it/s]/home/samuel/PycharmProjects/TabPFN/venv/lib/python3.11/site-packages/torch/utils/checkpoint.py:460: UserWarning: torch.utils.checkpoint: please pass in use_reentrant=True or use_reentrant=False explicitly. The default value of use_reentrant will be updated to be False in the future. To maintain current behavior, pass use_reentrant=True. It is recommended that you use use_reentrant=False. Refer to docs for more details on the differences between the two variants.\n",
      "  warnings.warn(\n",
      " 93%|█████████▎| 119/128 [01:15<00:06,  1.49it/s]/home/samuel/PycharmProjects/TabPFN/venv/lib/python3.11/site-packages/torch/utils/checkpoint.py:460: UserWarning: torch.utils.checkpoint: please pass in use_reentrant=True or use_reentrant=False explicitly. The default value of use_reentrant will be updated to be False in the future. To maintain current behavior, pass use_reentrant=True. It is recommended that you use use_reentrant=False. Refer to docs for more details on the differences between the two variants.\n",
      "  warnings.warn(\n",
      " 94%|█████████▍| 120/128 [01:16<00:05,  1.59it/s]/home/samuel/PycharmProjects/TabPFN/venv/lib/python3.11/site-packages/torch/utils/checkpoint.py:460: UserWarning: torch.utils.checkpoint: please pass in use_reentrant=True or use_reentrant=False explicitly. The default value of use_reentrant will be updated to be False in the future. To maintain current behavior, pass use_reentrant=True. It is recommended that you use use_reentrant=False. Refer to docs for more details on the differences between the two variants.\n",
      "  warnings.warn(\n",
      " 95%|█████████▍| 121/128 [01:16<00:04,  1.61it/s]/home/samuel/PycharmProjects/TabPFN/venv/lib/python3.11/site-packages/torch/utils/checkpoint.py:460: UserWarning: torch.utils.checkpoint: please pass in use_reentrant=True or use_reentrant=False explicitly. The default value of use_reentrant will be updated to be False in the future. To maintain current behavior, pass use_reentrant=True. It is recommended that you use use_reentrant=False. Refer to docs for more details on the differences between the two variants.\n",
      "  warnings.warn(\n",
      " 95%|█████████▌| 122/128 [01:17<00:03,  1.65it/s]/home/samuel/PycharmProjects/TabPFN/venv/lib/python3.11/site-packages/torch/utils/checkpoint.py:460: UserWarning: torch.utils.checkpoint: please pass in use_reentrant=True or use_reentrant=False explicitly. The default value of use_reentrant will be updated to be False in the future. To maintain current behavior, pass use_reentrant=True. It is recommended that you use use_reentrant=False. Refer to docs for more details on the differences between the two variants.\n",
      "  warnings.warn(\n",
      " 96%|█████████▌| 123/128 [01:17<00:03,  1.62it/s]/home/samuel/PycharmProjects/TabPFN/venv/lib/python3.11/site-packages/torch/utils/checkpoint.py:460: UserWarning: torch.utils.checkpoint: please pass in use_reentrant=True or use_reentrant=False explicitly. The default value of use_reentrant will be updated to be False in the future. To maintain current behavior, pass use_reentrant=True. It is recommended that you use use_reentrant=False. Refer to docs for more details on the differences between the two variants.\n",
      "  warnings.warn(\n",
      " 97%|█████████▋| 124/128 [01:18<00:02,  1.71it/s]/home/samuel/PycharmProjects/TabPFN/venv/lib/python3.11/site-packages/torch/utils/checkpoint.py:460: UserWarning: torch.utils.checkpoint: please pass in use_reentrant=True or use_reentrant=False explicitly. The default value of use_reentrant will be updated to be False in the future. To maintain current behavior, pass use_reentrant=True. It is recommended that you use use_reentrant=False. Refer to docs for more details on the differences between the two variants.\n",
      "  warnings.warn(\n",
      " 98%|█████████▊| 125/128 [01:19<00:01,  1.68it/s]/home/samuel/PycharmProjects/TabPFN/venv/lib/python3.11/site-packages/torch/utils/checkpoint.py:460: UserWarning: torch.utils.checkpoint: please pass in use_reentrant=True or use_reentrant=False explicitly. The default value of use_reentrant will be updated to be False in the future. To maintain current behavior, pass use_reentrant=True. It is recommended that you use use_reentrant=False. Refer to docs for more details on the differences between the two variants.\n",
      "  warnings.warn(\n",
      " 98%|█████████▊| 126/128 [01:19<00:01,  1.66it/s]/home/samuel/PycharmProjects/TabPFN/venv/lib/python3.11/site-packages/torch/utils/checkpoint.py:460: UserWarning: torch.utils.checkpoint: please pass in use_reentrant=True or use_reentrant=False explicitly. The default value of use_reentrant will be updated to be False in the future. To maintain current behavior, pass use_reentrant=True. It is recommended that you use use_reentrant=False. Refer to docs for more details on the differences between the two variants.\n",
      "  warnings.warn(\n",
      " 99%|█████████▉| 127/128 [01:20<00:00,  1.51it/s]/home/samuel/PycharmProjects/TabPFN/venv/lib/python3.11/site-packages/torch/utils/checkpoint.py:460: UserWarning: torch.utils.checkpoint: please pass in use_reentrant=True or use_reentrant=False explicitly. The default value of use_reentrant will be updated to be False in the future. To maintain current behavior, pass use_reentrant=True. It is recommended that you use use_reentrant=False. Refer to docs for more details on the differences between the two variants.\n",
      "  warnings.warn(\n",
      "100%|██████████| 128/128 [01:21<00:00,  1.58it/s]\n"
     ]
    }
   ],
   "source": [
    "classifier = TabPFNClassifier(device='cuda', N_ensemble_configurations=32)\n",
    "\n",
    "my_tab_pfn = TabPFN(100, 10, 256, 512, 1024, 4, 12)\n",
    "my_tab_pfn.load_state_dict(th.load(\"/home/samuel/PycharmProjects/TabPFN/out_2/model_48127.pt\"))\n",
    "my_tab_pfn.cuda()\n",
    "my_tab_pfn.eval()\n",
    "\n",
    "n_datasets = 128\n",
    "\n",
    "accuracy_meter_original = AccuracyMeter(None)\n",
    "accuracy_meter_our = AccuracyMeter(None)\n",
    "nb = 0\n",
    "\n",
    "for _ in tqdm(range(n_datasets)):\n",
    "    scm = SCM(100, (2, 10), False)\n",
    "    x, y = scm(1024)\n",
    "    x_train, x_test, y_train, y_test = train_test_split(x, y, test_size=0.33, random_state=42)\n",
    "    \n",
    "    try:\n",
    "        classifier.fit(x_train, y_train)\n",
    "        p_eval = th.tensor(classifier.predict_proba(x_test))[None]\n",
    "        \n",
    "        accuracy_meter_original.add(p_eval.cpu(), y_test[None])\n",
    "        \n",
    "        x_train = x_train[None].cuda()\n",
    "        y_train = y_train[None].cuda()\n",
    "        x_test = x_test[None].cuda()\n",
    "        y_test = y_test[None]\n",
    "        \n",
    "        p_eval = my_tab_pfn(x_train, y_train, x_test)\n",
    "        \n",
    "        accuracy_meter_our.add(p_eval.cpu(), y_test.cpu())\n",
    "    except ValueError:\n",
    "        pass"
   ],
   "metadata": {
    "collapsed": false,
    "ExecuteTime": {
     "end_time": "2024-02-20T20:17:55.220842854Z",
     "start_time": "2024-02-20T20:16:33.990176531Z"
    }
   },
   "id": "3ba98178fcb609d8",
   "execution_count": 17
  },
  {
   "cell_type": "code",
   "outputs": [
    {
     "name": "stdout",
     "output_type": "stream",
     "text": [
      "original 0.7339607696966873\n",
      "our 0.7431160601966175\n"
     ]
    }
   ],
   "source": [
    "print(\"original\", accuracy_meter_original.accuracy())\n",
    "print(\"our\", accuracy_meter_our.accuracy())"
   ],
   "metadata": {
    "collapsed": false,
    "ExecuteTime": {
     "end_time": "2024-02-20T20:18:20.686571438Z",
     "start_time": "2024-02-20T20:18:20.644330298Z"
    }
   },
   "id": "c6bc818e68043437",
   "execution_count": 18
  },
  {
   "cell_type": "code",
   "outputs": [
    {
     "name": "stderr",
     "output_type": "stream",
     "text": [
      "/home/samuel/PycharmProjects/TabPFN/venv/lib/python3.11/site-packages/torch/utils/checkpoint.py:460: UserWarning: torch.utils.checkpoint: please pass in use_reentrant=True or use_reentrant=False explicitly. The default value of use_reentrant will be updated to be False in the future. To maintain current behavior, pass use_reentrant=True. It is recommended that you use use_reentrant=False. Refer to docs for more details on the differences between the two variants.\n",
      "  warnings.warn(\n"
     ]
    }
   ],
   "source": [
    "classifier = TabPFNClassifier(device='cuda', N_ensemble_configurations=32)\n",
    "\n",
    "df = pd.read_csv(\"/home/samuel/Téléchargements/mfeat-karhunen_zip/data/mfeat-karhunen_csv.csv\", sep=\",\")\n",
    "\n",
    "x = df.iloc[:, :-1]\n",
    "y = df.iloc[:, -1]\n",
    "\n",
    "x_train, x_test, y_train, y_test = train_test_split(x, y, test_size=0.5, random_state=42)\n",
    "\n",
    "classifier.fit(x_train, y_train - 1)\n",
    "p_eval = classifier.predict_proba(x_test)\n",
    "\n",
    "accuracy_meter = AccuracyMeter(None)\n",
    "accuracy_meter.add(th.tensor(p_eval), th.tensor(y_test.tolist()) - 1)"
   ],
   "metadata": {
    "collapsed": false,
    "ExecuteTime": {
     "end_time": "2024-02-18T18:07:54.493157046Z",
     "start_time": "2024-02-18T18:07:52.684491186Z"
    }
   },
   "id": "b60d4659974b90fc",
   "execution_count": 24
  },
  {
   "cell_type": "code",
   "outputs": [
    {
     "data": {
      "text/plain": "0.966"
     },
     "execution_count": 25,
     "metadata": {},
     "output_type": "execute_result"
    }
   ],
   "source": [
    "accuracy_meter.accuracy()"
   ],
   "metadata": {
    "collapsed": false,
    "ExecuteTime": {
     "end_time": "2024-02-18T18:07:56.776776168Z",
     "start_time": "2024-02-18T18:07:56.762161620Z"
    }
   },
   "id": "df536e37985c7d18",
   "execution_count": 25
  },
  {
   "cell_type": "code",
   "outputs": [
    {
     "data": {
      "text/plain": "(1000, 10)"
     },
     "execution_count": 22,
     "metadata": {},
     "output_type": "execute_result"
    }
   ],
   "source": [
    "p_eval.shape"
   ],
   "metadata": {
    "collapsed": false,
    "ExecuteTime": {
     "end_time": "2024-02-18T18:07:12.226471949Z",
     "start_time": "2024-02-18T18:07:12.191841967Z"
    }
   },
   "id": "bb326e1fefacb151",
   "execution_count": 22
  },
  {
   "cell_type": "code",
   "outputs": [
    {
     "data": {
      "text/plain": "tensor([10,  2,  7,  5,  7,  7,  5,  9,  1,  7,  1,  7,  6,  3,  2,  2,  4,  1,\n         9, 10,  4,  9, 10,  6, 10,  1,  6,  5,  4,  1,  4,  5,  3,  5,  6,  3,\n         9,  7,  6,  2,  1, 10,  2,  3,  8,  5,  3,  5,  1,  9,  8,  2,  8,  2,\n         5,  9,  7,  9,  6,  2,  8,  4,  9,  6, 10, 10,  5,  8,  1,  8,  8,  2,\n         7,  6,  4,  2,  9,  4,  2, 10,  1,  5,  8,  8,  9,  8,  9,  3,  2,  9,\n         8,  9,  2,  2, 10, 10,  4,  7,  8, 10,  5,  5,  3,  7,  2,  5,  4,  2,\n         4,  3,  4,  8,  6,  9,  4,  2,  6,  5,  2,  9, 10,  6,  6,  3,  2,  8,\n         3,  5,  6,  2, 10, 10,  4,  3,  5,  7, 10, 10,  9,  8,  7,  2,  9,  5,\n         8,  3,  4,  7,  2,  1,  9,  5,  4,  6,  2,  1,  3,  9,  3,  9,  4,  5,\n         1,  6, 10,  8,  9,  7,  2,  9,  6,  4, 10, 10,  3,  7,  4,  7,  5,  9,\n         7,  4, 10,  6,  5,  4, 10,  9,  6,  7,  4,  2,  7,  2,  1,  3,  6,  5,\n         4,  8, 10,  3,  1,  4,  3,  2,  8,  7,  6,  1,  9,  1,  2,  1,  4, 10,\n         6,  2,  3,  7,  5,  1,  3,  6, 10, 10,  3,  1,  9,  2, 10,  2,  9,  8,\n         9,  2,  6,  5,  7,  3,  4,  8,  3,  5,  7,  1,  5, 10,  5,  7,  6,  2,\n         6,  3,  8,  6,  3,  4, 10,  7,  1, 10,  1,  8,  6,  8,  2,  1,  2,  6,\n         7, 10,  3,  9, 10, 10,  4,  3,  8,  2, 10,  8,  4,  7,  7,  1,  2,  9,\n         1,  1,  7,  8,  8,  9,  3,  2,  1,  9, 10,  3,  3,  1, 10,  8,  4, 10,\n         6,  7,  5,  1,  6,  9,  7,  5,  6,  3,  8,  8, 10,  8,  1,  9,  1,  2,\n         5,  3, 10,  4,  9,  4,  3,  3,  8,  3,  2,  9,  2,  1,  6,  9,  8,  2,\n        10,  5,  3,  9,  2, 10,  8,  5,  1,  3,  8,  9,  1,  3,  9,  9,  7,  6,\n         3,  2,  4,  1,  4,  3,  9,  2,  6,  2,  8, 10,  1,  9,  8,  8,  3,  9,\n        10,  8,  8,  5,  3,  9,  8,  4,  3,  8,  4,  8,  9,  9,  3,  4,  3,  5,\n         7,  9,  2,  3,  5,  2,  5,  4,  3,  6, 10,  2,  6,  7,  3,  4,  9,  5,\n         1,  8,  2,  1,  1,  9,  4,  2,  7,  3,  7, 10,  7,  6,  6,  7,  3,  8,\n         7,  3, 10, 10,  6,  5,  2,  8,  3,  1,  8,  4,  8,  3,  5,  8,  4,  7,\n         1,  7,  1,  7, 10,  9,  2,  9,  8,  3,  2,  2,  4,  6,  3,  2,  1,  5,\n         2,  5,  3,  3,  5,  7,  9,  3,  4,  3,  2,  8, 10,  8,  2,  3,  7,  7,\n         4,  2,  5,  2,  8,  3, 10,  3,  4,  4,  7,  3,  9,  4,  9,  3,  5,  7,\n         9, 10,  8,  1, 10,  6,  1,  2,  3,  8, 10,  9,  5,  2,  8,  6,  9,  2,\n         9,  4,  4,  4,  3,  2,  5,  7,  6, 10,  1,  4,  5, 10,  8,  5,  3, 10,\n         1,  7,  6,  6,  7,  5,  4,  9, 10, 10,  3,  1,  2,  6,  1,  7,  9, 10,\n         1,  9,  3, 10,  5,  4,  4,  6, 10,  5,  6,  1,  7,  7,  7,  8,  3,  6,\n         3,  7, 10, 10,  8, 10,  8,  2,  5,  3,  7,  9,  2,  2, 10,  4, 10,  7,\n         9,  1,  8, 10,  5,  5,  5,  3,  3,  7,  7,  7,  6,  8,  2,  9,  6,  3,\n         5,  8,  9,  8,  6,  7,  5,  5,  9,  7,  4,  4, 10,  8,  8,  6,  3,  7,\n         2, 10,  2,  6,  2,  3, 10, 10,  2,  7,  8,  1,  4, 10, 10, 10,  2,  3,\n         6,  6,  9,  7,  6,  6,  8,  1,  7, 10,  3,  3,  1,  5,  6,  2,  6,  9,\n         1,  9,  2,  1,  4,  8,  5,  5,  3,  3,  8,  2,  5, 10,  7,  6,  4,  9,\n         9,  9,  8,  8,  8,  9,  2,  3,  4,  6,  7,  9,  1,  7,  4,  1, 10, 10,\n         3, 10,  1,  8,  4,  4,  2,  1,  5,  7,  5,  1,  4,  3,  8,  1,  3,  7,\n         2,  8,  3,  8,  7,  4,  1,  5,  4,  5,  2,  5,  2,  3,  6,  4,  8,  6,\n         2,  4,  1,  7,  2,  1,  1,  3,  1,  4,  7,  7,  8,  7,  9,  3,  9,  1,\n         6,  9,  5,  7,  9,  3,  2,  7, 10,  6, 10,  8,  4,  7,  2,  7,  6,  8,\n         2,  3, 10,  7,  2,  3,  4,  2,  3,  5,  1,  7,  4,  5,  6,  5,  8, 10,\n         5,  6,  2,  5,  3,  7,  6,  2,  4,  6,  1,  1, 10,  5,  2,  9,  4,  5,\n         9,  2,  8,  1, 10,  7,  9,  8,  6,  7, 10,  4,  9,  5,  5,  1,  9,  8,\n         2,  5,  7,  2,  4,  4,  5,  5,  1,  6,  2,  6,  5,  5, 10,  5,  5,  4,\n         2,  9,  7,  1,  6,  5,  5,  4,  3,  8,  9,  3,  1,  9,  5,  3,  1,  6,\n         8,  1,  3, 10,  3, 10,  4,  8, 10,  7,  3,  3,  1,  2,  3,  8,  9,  7,\n         9,  6,  5, 10,  5,  7,  4,  1,  8,  8,  5,  3,  4,  8,  4,  8,  4,  2,\n         5,  7, 10,  1,  1, 10, 10,  1,  6,  6,  6, 10,  7,  8,  1,  4,  2,  7,\n         8, 10,  9,  7,  4,  5,  2, 10,  3,  5,  5, 10,  8,  8,  7, 10,  1,  3,\n         2,  7,  2,  6,  9,  8,  5,  6,  6, 10, 10, 10,  5, 10,  6,  2,  7,  2,\n         9,  7,  9,  1,  1, 10,  1,  4,  6,  2,  7,  8,  5,  4,  2,  5,  5,  9,\n         1,  5, 10,  3,  2,  8, 10,  6,  3,  1,  9,  3,  2,  4,  4,  9,  6,  3,\n         2,  9,  2,  7, 10,  1, 10,  4,  6,  1])"
     },
     "execution_count": 23,
     "metadata": {},
     "output_type": "execute_result"
    }
   ],
   "source": [
    "th.tensor(y_test.tolist())"
   ],
   "metadata": {
    "collapsed": false,
    "ExecuteTime": {
     "end_time": "2024-02-18T18:07:33.105534825Z",
     "start_time": "2024-02-18T18:07:33.072716941Z"
    }
   },
   "id": "f1b48570ee87805",
   "execution_count": 23
  },
  {
   "cell_type": "code",
   "outputs": [],
   "source": [],
   "metadata": {
    "collapsed": false
   },
   "id": "e13609488b509d90"
  }
 ],
 "metadata": {
  "kernelspec": {
   "display_name": "Python 3",
   "language": "python",
   "name": "python3"
  },
  "language_info": {
   "codemirror_mode": {
    "name": "ipython",
    "version": 2
   },
   "file_extension": ".py",
   "mimetype": "text/x-python",
   "name": "python",
   "nbconvert_exporter": "python",
   "pygments_lexer": "ipython2",
   "version": "2.7.6"
  }
 },
 "nbformat": 4,
 "nbformat_minor": 5
}
