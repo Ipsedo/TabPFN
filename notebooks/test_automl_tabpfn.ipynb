{
 "cells": [
  {
   "cell_type": "code",
   "execution_count": null,
   "id": "initial_id",
   "metadata": {
    "collapsed": true
   },
   "outputs": [],
   "source": [
    "from sklearn.metrics import accuracy_score\n",
    "from sklearn.datasets import load_breast_cancer\n",
    "from sklearn.model_selection import train_test_split\n",
    "from tqdm import tqdm\n",
    "from statistics import mean\n",
    "import pandas as pd\n",
    "\n",
    "import torch as th\n",
    "\n",
    "from tabpfn import TabPFNClassifier\n",
    "\n",
    "from tab_pfn.networks import SCM, TabPFN\n",
    "from tab_pfn.metrics import AccuracyMeter\n",
    "\n",
    "import warnings\n",
    "\n",
    "warnings.filterwarnings(\"ignore\")"
   ]
  },
  {
   "cell_type": "code",
   "outputs": [],
   "source": [
    "classifier = TabPFNClassifier(device='cuda', N_ensemble_configurations=32)\n",
    "\n",
    "my_tab_pfn = TabPFN(100, 10, 256, 512, 1024, 4, 12)\n",
    "my_tab_pfn.load_state_dict(th.load(\"/home/samuel/PycharmProjects/TabPFN/out_2/model_48127.pt\"))\n",
    "my_tab_pfn.cuda()\n",
    "my_tab_pfn.eval()\n",
    "\n",
    "n_datasets = 128\n",
    "\n",
    "accuracy_meter_original = AccuracyMeter(None)\n",
    "accuracy_meter_our = AccuracyMeter(None)\n",
    "nb = 0\n",
    "\n",
    "for _ in tqdm(range(n_datasets)):\n",
    "    scm = SCM(100, (2, 10), False)\n",
    "    x, y = scm(1024)\n",
    "    x_train, x_test, y_train, y_test = train_test_split(x, y, test_size=0.33, random_state=42)\n",
    "    \n",
    "    try:\n",
    "        classifier.fit(x_train, y_train)\n",
    "        p_eval = th.tensor(classifier.predict_proba(x_test))[None]\n",
    "        \n",
    "        accuracy_meter_original.add(p_eval.cpu(), y_test[None])\n",
    "        \n",
    "        x_train = x_train[None].cuda()\n",
    "        y_train = y_train[None].cuda()\n",
    "        x_test = x_test[None].cuda()\n",
    "        y_test = y_test[None]\n",
    "        \n",
    "        p_eval = my_tab_pfn(x_train, y_train, x_test)\n",
    "        \n",
    "        accuracy_meter_our.add(p_eval.cpu(), y_test.cpu())\n",
    "    except ValueError:\n",
    "        pass"
   ],
   "metadata": {
    "collapsed": false
   },
   "id": "3ba98178fcb609d8",
   "execution_count": null
  },
  {
   "cell_type": "code",
   "outputs": [],
   "source": [
    "print(\"original\", accuracy_meter_original.accuracy())\n",
    "print(\"our\", accuracy_meter_our.accuracy())"
   ],
   "metadata": {
    "collapsed": false
   },
   "id": "c6bc818e68043437",
   "execution_count": null
  },
  {
   "cell_type": "code",
   "outputs": [],
   "source": [
    "classifier = TabPFNClassifier(device='cuda', N_ensemble_configurations=32)\n",
    "\n",
    "df = pd.read_csv(\"/home/samuel/Téléchargements/mfeat-karhunen_zip/data/mfeat-karhunen_csv.csv\", sep=\",\")\n",
    "\n",
    "x = df.iloc[:, :-1]\n",
    "y = df.iloc[:, -1]\n",
    "\n",
    "x_train, x_test, y_train, y_test = train_test_split(x, y, test_size=0.5, random_state=42)\n",
    "\n",
    "classifier.fit(x_train, y_train - 1)\n",
    "p_eval = classifier.predict_proba(x_test)\n",
    "\n",
    "accuracy_meter = AccuracyMeter(None)\n",
    "accuracy_meter.add(th.tensor(p_eval), th.tensor(y_test.tolist()) - 1)"
   ],
   "metadata": {
    "collapsed": false
   },
   "id": "b60d4659974b90fc",
   "execution_count": null
  },
  {
   "cell_type": "code",
   "outputs": [],
   "source": [
    "accuracy_meter.accuracy()"
   ],
   "metadata": {
    "collapsed": false
   },
   "id": "df536e37985c7d18",
   "execution_count": null
  },
  {
   "cell_type": "code",
   "outputs": [],
   "source": [
    "p_eval.shape"
   ],
   "metadata": {
    "collapsed": false
   },
   "id": "bb326e1fefacb151",
   "execution_count": null
  },
  {
   "cell_type": "code",
   "outputs": [],
   "source": [
    "th.tensor(y_test.tolist())"
   ],
   "metadata": {
    "collapsed": false
   },
   "id": "f1b48570ee87805",
   "execution_count": null
  },
  {
   "cell_type": "code",
   "outputs": [],
   "source": [],
   "metadata": {
    "collapsed": false
   },
   "id": "e13609488b509d90"
  }
 ],
 "metadata": {
  "kernelspec": {
   "display_name": "Python 3",
   "language": "python",
   "name": "python3"
  },
  "language_info": {
   "codemirror_mode": {
    "name": "ipython",
    "version": 2
   },
   "file_extension": ".py",
   "mimetype": "text/x-python",
   "name": "python",
   "nbconvert_exporter": "python",
   "pygments_lexer": "ipython2",
   "version": "2.7.6"
  }
 },
 "nbformat": 4,
 "nbformat_minor": 5
}
