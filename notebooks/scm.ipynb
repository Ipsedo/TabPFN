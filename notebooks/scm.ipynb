{
 "cells": [
  {
   "cell_type": "code",
   "execution_count": null,
   "id": "initial_id",
   "metadata": {
    "collapsed": true
   },
   "outputs": [],
   "source": [
    "import torch as th\n",
    "from torch import nn\n",
    "from torch.distributions import MultivariateNormal\n",
    "from torch.nn import functional as F\n",
    "from random import choice, shuffle, randint"
   ]
  },
  {
   "cell_type": "code",
   "outputs": [],
   "source": [
    "from typing import Tuple\n",
    "\n",
    "\n",
    "class SCM(nn.Module):\n",
    "    def __init__(self, drop_neuron_proba: float, n_features: int, layer_bounds: Tuple[int, int] = (4, 16), node_bounds: Tuple[int, int] = (16, 64)) -> None:\n",
    "        super().__init__()\n",
    "        \n",
    "        n_layer = randint(layer_bounds[0], layer_bounds[1])\n",
    "        hidden_size = randint(node_bounds[0], node_bounds[1])\n",
    "        \n",
    "        self.__mlp = nn.ModuleList(\n",
    "            nn.Linear(hidden_size, hidden_size, bias=False)\n",
    "            for i in range(n_layer)\n",
    "        )\n",
    "        \n",
    "        self.__mask = th.ge(th.rand(n_layer, hidden_size), drop_neuron_proba)\n",
    "        \n",
    "        act_fn = [F.relu, F.tanh, F.leaky_relu, F.elu]\n",
    "        \n",
    "        self.__act = [\n",
    "            choice(act_fn) for _ in range(n_layer)\n",
    "        ]\n",
    "        \n",
    "        self.__features_per_layer = self.__mask.nonzero()[:n_features].split(1, dim=1)\n",
    "        \n",
    "        self.__hidden_size = hidden_size\n",
    "        \n",
    "        cov_mat = th.randn(hidden_size, hidden_size)\n",
    "        cov_mat = th.matmul(cov_mat.transpose(0, 1), cov_mat)\n",
    "        \n",
    "        loc = th.randn(hidden_size)\n",
    "        \n",
    "        self.__distribution = MultivariateNormal(loc, cov_mat)\n",
    "    \n",
    "    @th.no_grad()\n",
    "    def forward(self, batch_size: int) -> th.Tensor:\n",
    "        out = self.__distribution.sample((batch_size,))\n",
    "        outs = []\n",
    "        \n",
    "        for i, (layer, act) in enumerate(zip(self.__mlp, self.__act)):\n",
    "            out = layer(out) + self.__distribution.sample((batch_size,))\n",
    "            out = act(out)\n",
    "            out = out * self.__mask[None, i, :]\n",
    "            outs.append(out)\n",
    "        \n",
    "        # stack layers output\n",
    "        # (batch, layer, hidden_features)\n",
    "        outs_stacked = th.stack(outs, dim=1)\n",
    "        \n",
    "        # select features\n",
    "        out = outs_stacked[:, *self.__features_per_layer].squeeze(-1)\n",
    "        \n",
    "        # TODO pick y\n",
    "        \n",
    "        return out"
   ],
   "metadata": {
    "collapsed": false
   },
   "id": "6c8140298d8f74f4",
   "execution_count": null
  },
  {
   "cell_type": "code",
   "outputs": [],
   "source": [
    "scm = SCM(0.2, 128)"
   ],
   "metadata": {
    "collapsed": false
   },
   "id": "24ac0b9d709b778b",
   "execution_count": null
  },
  {
   "cell_type": "code",
   "outputs": [],
   "source": [
    "o = scm(3)"
   ],
   "metadata": {
    "collapsed": false
   },
   "id": "f616776c9b6a0de1",
   "execution_count": null
  },
  {
   "cell_type": "code",
   "outputs": [],
   "source": [
    "o.size()"
   ],
   "metadata": {
    "collapsed": false
   },
   "id": "772e379b8c15d6f6",
   "execution_count": null
  },
  {
   "cell_type": "code",
   "outputs": [],
   "source": [
    "o"
   ],
   "metadata": {
    "collapsed": false
   },
   "id": "451c03126b66fddb",
   "execution_count": null
  },
  {
   "cell_type": "code",
   "outputs": [],
   "source": [
    "t = th.rand(2, 3) > 0.5"
   ],
   "metadata": {
    "collapsed": false
   },
   "id": "8d6ae00c1f4759d",
   "execution_count": null
  },
  {
   "cell_type": "code",
   "outputs": [],
   "source": [
    "t"
   ],
   "metadata": {
    "collapsed": false
   },
   "id": "9149ba720d8e147",
   "execution_count": null
  },
  {
   "cell_type": "code",
   "outputs": [],
   "source": [
    "t.nonzero()"
   ],
   "metadata": {
    "collapsed": false
   },
   "id": "7685a4d2104d9c7f",
   "execution_count": null
  },
  {
   "cell_type": "code",
   "outputs": [],
   "source": [
    "t.nonzero().split(1, dim=1)"
   ],
   "metadata": {
    "collapsed": false
   },
   "id": "89761f5243fe6c04",
   "execution_count": null
  },
  {
   "cell_type": "code",
   "outputs": [],
   "source": [
    "t_2 = t.nonzero().tolist()"
   ],
   "metadata": {
    "collapsed": false
   },
   "id": "959023ad1016cd1c",
   "execution_count": null
  },
  {
   "cell_type": "code",
   "outputs": [],
   "source": [
    "features = [ (i, j) for _, i, j in t_2]"
   ],
   "metadata": {
    "collapsed": false
   },
   "id": "8e8f2c29215c88bc",
   "execution_count": null
  },
  {
   "cell_type": "code",
   "outputs": [],
   "source": [
    "shuffle(features)"
   ],
   "metadata": {
    "collapsed": false
   },
   "id": "98a905d666815261",
   "execution_count": null
  },
  {
   "cell_type": "code",
   "outputs": [],
   "source": [
    "features = features[:2]"
   ],
   "metadata": {
    "collapsed": false
   },
   "id": "d3e54f4c114a49bd",
   "execution_count": null
  },
  {
   "cell_type": "code",
   "outputs": [],
   "source": [
    "features_per_layer = {}\n",
    "for i, j in features:\n",
    "    features_per_layer.setdefault(i, [])\n",
    "    features_per_layer[i].append(j)"
   ],
   "metadata": {
    "collapsed": false
   },
   "id": "6ac37559afdd08f2",
   "execution_count": null
  },
  {
   "cell_type": "code",
   "outputs": [],
   "source": [
    "features_per_layer"
   ],
   "metadata": {
    "collapsed": false
   },
   "id": "ebe3d5d1053695d1",
   "execution_count": null
  },
  {
   "cell_type": "code",
   "outputs": [],
   "source": [],
   "metadata": {
    "collapsed": false
   },
   "id": "6fcb1a80ad849bb2"
  }
 ],
 "metadata": {
  "kernelspec": {
   "display_name": "Python 3",
   "language": "python",
   "name": "python3"
  },
  "language_info": {
   "codemirror_mode": {
    "name": "ipython",
    "version": 2
   },
   "file_extension": ".py",
   "mimetype": "text/x-python",
   "name": "python",
   "nbconvert_exporter": "python",
   "pygments_lexer": "ipython2",
   "version": "2.7.6"
  }
 },
 "nbformat": 4,
 "nbformat_minor": 5
}
