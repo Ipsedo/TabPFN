{
 "cells": [
  {
   "cell_type": "code",
   "execution_count": 82,
   "id": "initial_id",
   "metadata": {
    "collapsed": true,
    "ExecuteTime": {
     "end_time": "2024-02-13T21:45:43.223816852Z",
     "start_time": "2024-02-13T21:45:43.178927509Z"
    }
   },
   "outputs": [],
   "source": [
    "import torch as th\n",
    "from torch import nn\n",
    "from torch.nn import functional as F\n",
    "from random import choice, shuffle"
   ]
  },
  {
   "cell_type": "code",
   "outputs": [],
   "source": [
    "class SCM(nn.Module):\n",
    "    def __init__(self, x_dim: int, hidden_size: int, n_layer: int, drop_neuron_proba: float, n_features: int) -> None:\n",
    "        super().__init__()\n",
    "        \n",
    "        self.__mlp = nn.ModuleList(\n",
    "            nn.Linear(x_dim if i == 0 else hidden_size, hidden_size)\n",
    "            for i in range(n_layer)\n",
    "        )\n",
    "        \n",
    "        self.__mask = th.ge(th.rand(n_layer, hidden_size), drop_neuron_proba)\n",
    "        \n",
    "        act_fn = [F.relu, F.tanh, F.leaky_relu, F.elu]\n",
    "        \n",
    "        self.__act = [\n",
    "            choice(act_fn) for _ in range(n_layer)\n",
    "        ]\n",
    "        \n",
    "        self.__features_per_layer = self.__mask.nonzero()[:n_features].split(1, dim=1)\n",
    "    \n",
    "    def forward(self, x: th.Tensor) -> th.Tensor:\n",
    "        out = x\n",
    "        outs = []\n",
    "        \n",
    "        for i, (layer, act) in enumerate(zip(self.__mlp, self.__act)):\n",
    "            out = layer(out)\n",
    "            out = act(out)\n",
    "            # TODO add epsilon ?\n",
    "            out = out * self.__mask[None, i, :]\n",
    "            outs.append(out)\n",
    "        \n",
    "        # stack layers output\n",
    "        # (batch, layer, hidden_features)\n",
    "        outs_stacked = th.stack(outs, dim=1)\n",
    "        \n",
    "        # select features\n",
    "        out = outs_stacked[:, *self.__features_per_layer].squeeze(-1)\n",
    "        \n",
    "        # TODO pick y\n",
    "        \n",
    "        return out"
   ],
   "metadata": {
    "collapsed": false,
    "ExecuteTime": {
     "end_time": "2024-02-13T21:46:43.556390087Z",
     "start_time": "2024-02-13T21:46:43.514275464Z"
    }
   },
   "id": "6c8140298d8f74f4",
   "execution_count": 94
  },
  {
   "cell_type": "code",
   "outputs": [],
   "source": [
    "scm = SCM(8, 16, 3, 0.5, 4)"
   ],
   "metadata": {
    "collapsed": false,
    "ExecuteTime": {
     "end_time": "2024-02-13T21:46:43.973900727Z",
     "start_time": "2024-02-13T21:46:43.972019908Z"
    }
   },
   "id": "24ac0b9d709b778b",
   "execution_count": 95
  },
  {
   "cell_type": "code",
   "outputs": [],
   "source": [
    "x = th.randn(5, 8)"
   ],
   "metadata": {
    "collapsed": false,
    "ExecuteTime": {
     "end_time": "2024-02-13T21:46:44.339370709Z",
     "start_time": "2024-02-13T21:46:44.336658863Z"
    }
   },
   "id": "339f4250155c07",
   "execution_count": 96
  },
  {
   "cell_type": "code",
   "outputs": [],
   "source": [
    "o = scm(x)"
   ],
   "metadata": {
    "collapsed": false,
    "ExecuteTime": {
     "end_time": "2024-02-13T21:46:44.694931393Z",
     "start_time": "2024-02-13T21:46:44.692830167Z"
    }
   },
   "id": "f616776c9b6a0de1",
   "execution_count": 97
  },
  {
   "cell_type": "code",
   "outputs": [
    {
     "data": {
      "text/plain": "torch.Size([5, 4])"
     },
     "execution_count": 98,
     "metadata": {},
     "output_type": "execute_result"
    }
   ],
   "source": [
    "o.size()"
   ],
   "metadata": {
    "collapsed": false,
    "ExecuteTime": {
     "end_time": "2024-02-13T21:46:45.154866382Z",
     "start_time": "2024-02-13T21:46:45.152627751Z"
    }
   },
   "id": "772e379b8c15d6f6",
   "execution_count": 98
  },
  {
   "cell_type": "code",
   "outputs": [
    {
     "data": {
      "text/plain": "tensor([[-5.8394e-01, -4.2783e-01, -1.9807e-03,  1.4071e-01],\n        [ 1.7129e-01, -3.0003e-01, -2.3668e-03, -5.7277e-04],\n        [-4.6973e-01, -1.3460e-01, -2.1900e-03,  4.6558e-02],\n        [ 3.1427e-01, -6.4476e-01, -2.2367e-03, -8.2763e-05],\n        [-5.2258e-01, -5.9966e-01, -1.9117e-03,  1.6734e-01]],\n       grad_fn=<SqueezeBackward1>)"
     },
     "execution_count": 99,
     "metadata": {},
     "output_type": "execute_result"
    }
   ],
   "source": [
    "o"
   ],
   "metadata": {
    "collapsed": false,
    "ExecuteTime": {
     "end_time": "2024-02-13T21:46:45.513775485Z",
     "start_time": "2024-02-13T21:46:45.509388060Z"
    }
   },
   "id": "451c03126b66fddb",
   "execution_count": 99
  },
  {
   "cell_type": "code",
   "outputs": [],
   "source": [
    "t = th.rand(2, 3) > 0.5"
   ],
   "metadata": {
    "collapsed": false,
    "ExecuteTime": {
     "end_time": "2024-02-13T21:37:12.490097768Z",
     "start_time": "2024-02-13T21:37:12.445078601Z"
    }
   },
   "id": "8d6ae00c1f4759d",
   "execution_count": 53
  },
  {
   "cell_type": "code",
   "outputs": [
    {
     "data": {
      "text/plain": "tensor([[False,  True,  True],\n        [False,  True,  True]])"
     },
     "execution_count": 54,
     "metadata": {},
     "output_type": "execute_result"
    }
   ],
   "source": [
    "t"
   ],
   "metadata": {
    "collapsed": false,
    "ExecuteTime": {
     "end_time": "2024-02-13T21:37:12.984853783Z",
     "start_time": "2024-02-13T21:37:12.981402004Z"
    }
   },
   "id": "9149ba720d8e147",
   "execution_count": 54
  },
  {
   "cell_type": "code",
   "outputs": [
    {
     "data": {
      "text/plain": "tensor([[0, 1],\n        [0, 2],\n        [1, 1],\n        [1, 2]])"
     },
     "execution_count": 56,
     "metadata": {},
     "output_type": "execute_result"
    }
   ],
   "source": [
    "t.nonzero()"
   ],
   "metadata": {
    "collapsed": false,
    "ExecuteTime": {
     "end_time": "2024-02-13T21:37:51.490963520Z",
     "start_time": "2024-02-13T21:37:51.448816262Z"
    }
   },
   "id": "7685a4d2104d9c7f",
   "execution_count": 56
  },
  {
   "cell_type": "code",
   "outputs": [
    {
     "data": {
      "text/plain": "(tensor([[0],\n         [0],\n         [1],\n         [1]]),\n tensor([[1],\n         [2],\n         [1],\n         [2]]))"
     },
     "execution_count": 55,
     "metadata": {},
     "output_type": "execute_result"
    }
   ],
   "source": [
    "t.nonzero().split(1, dim=1)"
   ],
   "metadata": {
    "collapsed": false,
    "ExecuteTime": {
     "end_time": "2024-02-13T21:37:32.970123082Z",
     "start_time": "2024-02-13T21:37:32.962760879Z"
    }
   },
   "id": "89761f5243fe6c04",
   "execution_count": 55
  },
  {
   "cell_type": "code",
   "outputs": [],
   "source": [
    "t_2 = t.nonzero().tolist()"
   ],
   "metadata": {
    "collapsed": false,
    "ExecuteTime": {
     "end_time": "2024-02-13T21:28:23.446997585Z",
     "start_time": "2024-02-13T21:28:23.405407859Z"
    }
   },
   "id": "959023ad1016cd1c",
   "execution_count": 35
  },
  {
   "cell_type": "code",
   "outputs": [],
   "source": [
    "features = [ (i, j) for _, i, j in t_2]"
   ],
   "metadata": {
    "collapsed": false,
    "ExecuteTime": {
     "end_time": "2024-02-13T21:27:16.170415897Z",
     "start_time": "2024-02-13T21:27:16.128814159Z"
    }
   },
   "id": "8e8f2c29215c88bc",
   "execution_count": 21
  },
  {
   "cell_type": "code",
   "outputs": [],
   "source": [
    "shuffle(features)"
   ],
   "metadata": {
    "collapsed": false,
    "ExecuteTime": {
     "end_time": "2024-02-13T21:28:42.094854099Z",
     "start_time": "2024-02-13T21:28:42.090537878Z"
    }
   },
   "id": "98a905d666815261",
   "execution_count": 38
  },
  {
   "cell_type": "code",
   "outputs": [],
   "source": [
    "features = features[:2]"
   ],
   "metadata": {
    "collapsed": false,
    "ExecuteTime": {
     "end_time": "2024-02-13T21:29:45.356563851Z",
     "start_time": "2024-02-13T21:29:45.315855377Z"
    }
   },
   "id": "d3e54f4c114a49bd",
   "execution_count": 42
  },
  {
   "cell_type": "code",
   "outputs": [],
   "source": [
    "features_per_layer = {}\n",
    "for i, j in features:\n",
    "    features_per_layer.setdefault(i, [])\n",
    "    features_per_layer[i].append(j)"
   ],
   "metadata": {
    "collapsed": false,
    "ExecuteTime": {
     "end_time": "2024-02-13T21:29:45.742677803Z",
     "start_time": "2024-02-13T21:29:45.741374099Z"
    }
   },
   "id": "6ac37559afdd08f2",
   "execution_count": 43
  },
  {
   "cell_type": "code",
   "outputs": [
    {
     "data": {
      "text/plain": "{1: [2, 1]}"
     },
     "execution_count": 44,
     "metadata": {},
     "output_type": "execute_result"
    }
   ],
   "source": [
    "features_per_layer"
   ],
   "metadata": {
    "collapsed": false,
    "ExecuteTime": {
     "end_time": "2024-02-13T21:29:46.044765122Z",
     "start_time": "2024-02-13T21:29:46.043187257Z"
    }
   },
   "id": "ebe3d5d1053695d1",
   "execution_count": 44
  },
  {
   "cell_type": "code",
   "outputs": [],
   "source": [],
   "metadata": {
    "collapsed": false
   },
   "id": "6fcb1a80ad849bb2"
  }
 ],
 "metadata": {
  "kernelspec": {
   "display_name": "Python 3",
   "language": "python",
   "name": "python3"
  },
  "language_info": {
   "codemirror_mode": {
    "name": "ipython",
    "version": 2
   },
   "file_extension": ".py",
   "mimetype": "text/x-python",
   "name": "python",
   "nbconvert_exporter": "python",
   "pygments_lexer": "ipython2",
   "version": "2.7.6"
  }
 },
 "nbformat": 4,
 "nbformat_minor": 5
}
