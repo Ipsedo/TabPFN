{
 "cells": [
  {
   "cell_type": "code",
   "execution_count": null,
   "id": "initial_id",
   "metadata": {
    "collapsed": true
   },
   "outputs": [],
   "source": [
    "import torch as th\n",
    "from typing import Tuple, Callable, List\n",
    "from torch import nn\n",
    "from torch.distributions import MultivariateNormal\n",
    "from torch.nn import functional as F\n",
    "from random import choice, shuffle, randint, uniform\n",
    "\n",
    "from tab_pfn.networks import SCM"
   ]
  },
  {
   "cell_type": "code",
   "outputs": [],
   "source": [
    "scm = SCM(100, (2, 10), True)"
   ],
   "metadata": {
    "collapsed": false
   },
   "id": "24ac0b9d709b778b",
   "execution_count": null
  },
  {
   "cell_type": "code",
   "outputs": [],
   "source": [
    "x, y = scm(10)"
   ],
   "metadata": {
    "collapsed": false
   },
   "id": "f616776c9b6a0de1",
   "execution_count": null
  },
  {
   "cell_type": "code",
   "outputs": [],
   "source": [
    "x.size(), y.size()"
   ],
   "metadata": {
    "collapsed": false
   },
   "id": "772e379b8c15d6f6",
   "execution_count": null
  },
  {
   "cell_type": "code",
   "outputs": [],
   "source": [
    "y"
   ],
   "metadata": {
    "collapsed": false
   },
   "id": "451c03126b66fddb",
   "execution_count": null
  },
  {
   "cell_type": "code",
   "outputs": [],
   "source": [
    "y[:100]"
   ],
   "metadata": {
    "collapsed": false
   },
   "id": "8250e3a5e07262d0",
   "execution_count": null
  },
  {
   "cell_type": "code",
   "outputs": [],
   "source": [],
   "metadata": {
    "collapsed": false
   },
   "id": "6fcb1a80ad849bb2",
   "execution_count": null
  }
 ],
 "metadata": {
  "kernelspec": {
   "display_name": "Python 3",
   "language": "python",
   "name": "python3"
  },
  "language_info": {
   "codemirror_mode": {
    "name": "ipython",
    "version": 2
   },
   "file_extension": ".py",
   "mimetype": "text/x-python",
   "name": "python",
   "nbconvert_exporter": "python",
   "pygments_lexer": "ipython2",
   "version": "2.7.6"
  }
 },
 "nbformat": 4,
 "nbformat_minor": 5
}
