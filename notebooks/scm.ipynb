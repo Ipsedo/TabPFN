{
 "cells": [
  {
   "cell_type": "code",
   "execution_count": null,
   "id": "initial_id",
   "metadata": {
    "collapsed": true
   },
   "outputs": [],
   "source": [
    "import torch as th\n",
    "from typing import Tuple, Callable, List\n",
    "from torch import nn\n",
    "from torch.distributions import MultivariateNormal\n",
    "from torch.nn import functional as F\n",
    "from random import choice, shuffle, randint, uniform"
   ]
  },
  {
   "cell_type": "code",
   "outputs": [],
   "source": [
    "class SCM(nn.Module):\n",
    "    def __init__(\n",
    "            self,\n",
    "            drop_neuron_proba: float,\n",
    "            n_features: int,\n",
    "            layer_bounds: Tuple[int, int] = (4, 8),\n",
    "            node_bounds: Tuple[int, int] = (64, 128),\n",
    "            class_bounds: Tuple[int, int] = (2, 32),\n",
    "    ) -> None:\n",
    "        super().__init__()\n",
    "\n",
    "        n_layer = randint(layer_bounds[0], layer_bounds[1])\n",
    "        hidden_size = randint(node_bounds[0], node_bounds[1])\n",
    "\n",
    "        self.__mlp = nn.ModuleList(\n",
    "            nn.Linear(hidden_size, hidden_size, bias=False)\n",
    "            for i in range(n_layer)\n",
    "        )\n",
    "\n",
    "        mask = th.ge(th.rand(n_layer, hidden_size), drop_neuron_proba)\n",
    "        self.register_buffer(\"_mask\", mask)\n",
    "\n",
    "        act_fn: List[Callable[[th.Tensor], th.Tensor]] = [\n",
    "            F.relu,\n",
    "            F.tanh,\n",
    "            F.leaky_relu,\n",
    "            F.elu,\n",
    "        ]\n",
    "\n",
    "        self.__act: List[Callable[[th.Tensor], th.Tensor]] = [\n",
    "            choice(act_fn) for _ in range(n_layer)\n",
    "        ]\n",
    "\n",
    "        non_masked_nodes = self._mask.nonzero()\n",
    "        non_masked_nodes = non_masked_nodes[\n",
    "            th.randperm(non_masked_nodes.size(0))\n",
    "        ]\n",
    "\n",
    "        self.__x_idx = non_masked_nodes[:n_features].split(1, dim=1)\n",
    "\n",
    "        cov_mat = th.randn(hidden_size, hidden_size)\n",
    "        cov_mat = th.matmul(cov_mat.transpose(0, 1), cov_mat)\n",
    "\n",
    "        loc = th.randn(hidden_size)\n",
    "\n",
    "        self.register_buffer(\"_cov_mat\", cov_mat)\n",
    "        self.register_buffer(\"_loc\", loc)\n",
    "\n",
    "        self.__y_idx = non_masked_nodes[n_features + 1]\n",
    "\n",
    "        self.__nb_class = randint(class_bounds[0], class_bounds[1])\n",
    "\n",
    "        self.__y_class_intervals = []\n",
    "\n",
    "    @th.no_grad()\n",
    "    def forward(self, batch_size: int) -> Tuple[th.Tensor, th.Tensor]:\n",
    "        distribution = MultivariateNormal(self._loc, self._cov_mat)\n",
    "\n",
    "        epsilon_size = th.Size([batch_size])\n",
    "\n",
    "        out = distribution.sample(epsilon_size)\n",
    "        outs = []\n",
    "\n",
    "        for layer, act, mask in zip(self.__mlp, self.__act, self._mask):\n",
    "            out = layer(out) + distribution.sample(epsilon_size)\n",
    "            out = act(out)\n",
    "            out = out * mask[None, :]\n",
    "            outs.append(out)\n",
    "\n",
    "        # stack layers output\n",
    "        # (batch, layer, hidden_features)\n",
    "        outs_stacked = th.stack(outs, dim=1)\n",
    "\n",
    "        # select features\n",
    "        x = outs_stacked[:, *self.__x_idx].squeeze(-1)\n",
    "        # select label\n",
    "        y = outs_stacked[:, *self.__y_idx].squeeze(-1)\n",
    "\n",
    "        if len(self.__y_class_intervals) == 0:\n",
    "            self.__y_class_intervals = sorted([uniform(y.min().item(), y.max().item()) for _ in range(self.__nb_class)])\n",
    "\n",
    "        y_class = self.__split_tensor_based_on_intervals(y, self.__y_class_intervals)\n",
    "\n",
    "        return x, y_class\n",
    "\n",
    "    @property\n",
    "    def nb_class(self) -> int:\n",
    "        return self.__nb_class\n",
    "\n",
    "    @staticmethod\n",
    "    def __split_tensor_based_on_intervals(y_scalar: th.Tensor, intervals: List[float]) -> th.Tensor:\n",
    "        indices = th.zeros_like(y_scalar, dtype=th.long, device=y_scalar.device)\n",
    "        for interval in intervals:\n",
    "            indices += y_scalar > interval\n",
    "        return indices"
   ],
   "metadata": {
    "collapsed": false
   },
   "id": "6c8140298d8f74f4",
   "execution_count": null
  },
  {
   "cell_type": "code",
   "outputs": [],
   "source": [
    "scm = SCM(0.2, 64)\n",
    "scm.cuda()"
   ],
   "metadata": {
    "collapsed": false
   },
   "id": "24ac0b9d709b778b",
   "execution_count": null
  },
  {
   "cell_type": "code",
   "outputs": [],
   "source": [
    "x, y = scm(100000)"
   ],
   "metadata": {
    "collapsed": false
   },
   "id": "f616776c9b6a0de1",
   "execution_count": null
  },
  {
   "cell_type": "code",
   "outputs": [],
   "source": [
    "x.size(), y.size()"
   ],
   "metadata": {
    "collapsed": false
   },
   "id": "772e379b8c15d6f6",
   "execution_count": null
  },
  {
   "cell_type": "code",
   "outputs": [],
   "source": [
    "x"
   ],
   "metadata": {
    "collapsed": false
   },
   "id": "451c03126b66fddb",
   "execution_count": null
  },
  {
   "cell_type": "code",
   "outputs": [],
   "source": [
    "y[:100]"
   ],
   "metadata": {
    "collapsed": false
   },
   "id": "8250e3a5e07262d0",
   "execution_count": null
  },
  {
   "cell_type": "code",
   "outputs": [],
   "source": [],
   "metadata": {
    "collapsed": false
   },
   "id": "6fcb1a80ad849bb2",
   "execution_count": null
  }
 ],
 "metadata": {
  "kernelspec": {
   "display_name": "Python 3",
   "language": "python",
   "name": "python3"
  },
  "language_info": {
   "codemirror_mode": {
    "name": "ipython",
    "version": 2
   },
   "file_extension": ".py",
   "mimetype": "text/x-python",
   "name": "python",
   "nbconvert_exporter": "python",
   "pygments_lexer": "ipython2",
   "version": "2.7.6"
  }
 },
 "nbformat": 4,
 "nbformat_minor": 5
}
